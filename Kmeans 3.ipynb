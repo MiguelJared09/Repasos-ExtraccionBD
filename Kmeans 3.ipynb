{
 "cells": [
  {
   "cell_type": "code",
   "execution_count": 1,
   "id": "491a0177",
   "metadata": {},
   "outputs": [],
   "source": [
    "#Importaciones\n",
    "import pandas as pd\n",
    "import matplotlib.pyplot as plt\n",
    "from matplotlib import markers\n",
    "from sklearn.cluster import KMeans\n",
    "import scipy.cluster.hierarchy as sch\n",
    "from sklearn.cluster import AgglomerativeClustering\n",
    "from sklearn import metrics\n",
    "from sklearn.preprocessing import LabelEncoder\n",
    "from sklearn.ensemble import IsolationForest"
   ]
  },
  {
   "cell_type": "code",
   "execution_count": 2,
   "id": "cd35ce0b",
   "metadata": {},
   "outputs": [
    {
     "data": {
      "text/html": [
       "<div>\n",
       "<style scoped>\n",
       "    .dataframe tbody tr th:only-of-type {\n",
       "        vertical-align: middle;\n",
       "    }\n",
       "\n",
       "    .dataframe tbody tr th {\n",
       "        vertical-align: top;\n",
       "    }\n",
       "\n",
       "    .dataframe thead th {\n",
       "        text-align: right;\n",
       "    }\n",
       "</style>\n",
       "<table border=\"1\" class=\"dataframe\">\n",
       "  <thead>\n",
       "    <tr style=\"text-align: right;\">\n",
       "      <th></th>\n",
       "      <th>no_reg</th>\n",
       "      <th>battery_power</th>\n",
       "      <th>clock_speed</th>\n",
       "      <th>int_memory</th>\n",
       "      <th>m_dep</th>\n",
       "      <th>n_cores</th>\n",
       "      <th>wifi</th>\n",
       "      <th>px_height</th>\n",
       "      <th>touch_screen</th>\n",
       "      <th>px_width</th>\n",
       "      <th>ram</th>\n",
       "    </tr>\n",
       "  </thead>\n",
       "  <tbody>\n",
       "    <tr>\n",
       "      <th>0</th>\n",
       "      <td>1</td>\n",
       "      <td>1757</td>\n",
       "      <td>0.5</td>\n",
       "      <td>49.0</td>\n",
       "      <td>NaN</td>\n",
       "      <td>6.0</td>\n",
       "      <td>NO</td>\n",
       "      <td>265</td>\n",
       "      <td>N</td>\n",
       "      <td>713</td>\n",
       "      <td>2056.0</td>\n",
       "    </tr>\n",
       "    <tr>\n",
       "      <th>1</th>\n",
       "      <td>2</td>\n",
       "      <td>1866</td>\n",
       "      <td>1.4</td>\n",
       "      <td>30.0</td>\n",
       "      <td>NaN</td>\n",
       "      <td>3.0</td>\n",
       "      <td>NO</td>\n",
       "      <td>108</td>\n",
       "      <td>N</td>\n",
       "      <td>1781</td>\n",
       "      <td>3834.0</td>\n",
       "    </tr>\n",
       "    <tr>\n",
       "      <th>2</th>\n",
       "      <td>3</td>\n",
       "      <td>617</td>\n",
       "      <td>2.3</td>\n",
       "      <td>32.0</td>\n",
       "      <td>NaN</td>\n",
       "      <td>7.0</td>\n",
       "      <td>NO</td>\n",
       "      <td>768</td>\n",
       "      <td>N</td>\n",
       "      <td>874</td>\n",
       "      <td>2213.0</td>\n",
       "    </tr>\n",
       "    <tr>\n",
       "      <th>3</th>\n",
       "      <td>4</td>\n",
       "      <td>1356</td>\n",
       "      <td>2.8</td>\n",
       "      <td>29.0</td>\n",
       "      <td>NaN</td>\n",
       "      <td>6.0</td>\n",
       "      <td>NO</td>\n",
       "      <td>1612</td>\n",
       "      <td>N</td>\n",
       "      <td>1983</td>\n",
       "      <td>3702.0</td>\n",
       "    </tr>\n",
       "    <tr>\n",
       "      <th>4</th>\n",
       "      <td>5</td>\n",
       "      <td>1049</td>\n",
       "      <td>2.2</td>\n",
       "      <td>63.0</td>\n",
       "      <td>NaN</td>\n",
       "      <td>5.0</td>\n",
       "      <td>NO</td>\n",
       "      <td>199</td>\n",
       "      <td>N</td>\n",
       "      <td>1077</td>\n",
       "      <td>1022.0</td>\n",
       "    </tr>\n",
       "  </tbody>\n",
       "</table>\n",
       "</div>"
      ],
      "text/plain": [
       "   no_reg  battery_power  clock_speed  int_memory  m_dep  n_cores wifi  \\\n",
       "0       1           1757          0.5        49.0    NaN      6.0   NO   \n",
       "1       2           1866          1.4        30.0    NaN      3.0   NO   \n",
       "2       3            617          2.3        32.0    NaN      7.0   NO   \n",
       "3       4           1356          2.8        29.0    NaN      6.0   NO   \n",
       "4       5           1049          2.2        63.0    NaN      5.0   NO   \n",
       "\n",
       "   px_height touch_screen  px_width     ram  \n",
       "0        265            N       713  2056.0  \n",
       "1        108            N      1781  3834.0  \n",
       "2        768            N       874  2213.0  \n",
       "3       1612            N      1983  3702.0  \n",
       "4        199            N      1077  1022.0  "
      ]
     },
     "execution_count": 2,
     "metadata": {},
     "output_type": "execute_result"
    }
   ],
   "source": [
    "df= pd.read_csv('examenm3.csv')\n",
    "df.head(5)"
   ]
  },
  {
   "cell_type": "code",
   "execution_count": 5,
   "id": "3c69d0a9",
   "metadata": {
    "scrolled": true
   },
   "outputs": [
    {
     "name": "stdout",
     "output_type": "stream",
     "text": [
      "<class 'pandas.core.frame.DataFrame'>\n",
      "RangeIndex: 1000 entries, 0 to 999\n",
      "Data columns (total 11 columns):\n",
      " #   Column         Non-Null Count  Dtype  \n",
      "---  ------         --------------  -----  \n",
      " 0   no_reg         1000 non-null   int64  \n",
      " 1   battery_power  1000 non-null   int64  \n",
      " 2   clock_speed    1000 non-null   float64\n",
      " 3   int_memory     973 non-null    float64\n",
      " 4   m_dep          0 non-null      float64\n",
      " 5   n_cores        153 non-null    float64\n",
      " 6   wifi           991 non-null    object \n",
      " 7   px_height      1000 non-null   int64  \n",
      " 8   touch_screen   1000 non-null   object \n",
      " 9   px_width       1000 non-null   int64  \n",
      " 10  ram            992 non-null    float64\n",
      "dtypes: float64(5), int64(4), object(2)\n",
      "memory usage: 86.1+ KB\n"
     ]
    }
   ],
   "source": [
    "df.info()"
   ]
  },
  {
   "cell_type": "code",
   "execution_count": 6,
   "id": "3845d52b",
   "metadata": {},
   "outputs": [],
   "source": [
    "df.drop(['m_dep'],axis=1,inplace=True)"
   ]
  },
  {
   "cell_type": "code",
   "execution_count": 7,
   "id": "c687fce0",
   "metadata": {},
   "outputs": [],
   "source": [
    "df.drop(['no_reg'],axis=1,inplace=True)"
   ]
  },
  {
   "cell_type": "code",
   "execution_count": 8,
   "id": "65ae48d2",
   "metadata": {},
   "outputs": [],
   "source": [
    "df.drop(['n_cores'],axis=1,inplace=True)"
   ]
  },
  {
   "cell_type": "code",
   "execution_count": 9,
   "id": "9919e702",
   "metadata": {},
   "outputs": [
    {
     "name": "stdout",
     "output_type": "stream",
     "text": [
      "<class 'pandas.core.frame.DataFrame'>\n",
      "RangeIndex: 1000 entries, 0 to 999\n",
      "Data columns (total 8 columns):\n",
      " #   Column         Non-Null Count  Dtype  \n",
      "---  ------         --------------  -----  \n",
      " 0   battery_power  1000 non-null   int64  \n",
      " 1   clock_speed    1000 non-null   float64\n",
      " 2   int_memory     973 non-null    float64\n",
      " 3   wifi           991 non-null    object \n",
      " 4   px_height      1000 non-null   int64  \n",
      " 5   touch_screen   1000 non-null   object \n",
      " 6   px_width       1000 non-null   int64  \n",
      " 7   ram            992 non-null    float64\n",
      "dtypes: float64(3), int64(3), object(2)\n",
      "memory usage: 62.6+ KB\n"
     ]
    }
   ],
   "source": [
    "df.info()"
   ]
  },
  {
   "cell_type": "code",
   "execution_count": 10,
   "id": "7371c7ef",
   "metadata": {},
   "outputs": [
    {
     "data": {
      "text/plain": [
       "battery_power     0\n",
       "clock_speed       0\n",
       "int_memory       27\n",
       "wifi              9\n",
       "px_height         0\n",
       "touch_screen      0\n",
       "px_width          0\n",
       "ram               8\n",
       "dtype: int64"
      ]
     },
     "execution_count": 10,
     "metadata": {},
     "output_type": "execute_result"
    }
   ],
   "source": [
    "df.isnull().sum()"
   ]
  },
  {
   "cell_type": "code",
   "execution_count": 11,
   "id": "7b1bbc91",
   "metadata": {},
   "outputs": [],
   "source": [
    "df['int_memory'] = df['int_memory'].fillna(df['int_memory'].mean())"
   ]
  },
  {
   "cell_type": "code",
   "execution_count": 12,
   "id": "81921c0e",
   "metadata": {},
   "outputs": [],
   "source": [
    "df['wifi'] = df['wifi'].fillna(df['wifi'].mode()[0])"
   ]
  },
  {
   "cell_type": "code",
   "execution_count": 13,
   "id": "0a2efdfd",
   "metadata": {},
   "outputs": [],
   "source": [
    "df['ram'] = df['ram'].fillna(df['ram'].mean())"
   ]
  },
  {
   "cell_type": "code",
   "execution_count": 14,
   "id": "7f353563",
   "metadata": {},
   "outputs": [
    {
     "data": {
      "text/plain": [
       "battery_power    0\n",
       "clock_speed      0\n",
       "int_memory       0\n",
       "wifi             0\n",
       "px_height        0\n",
       "touch_screen     0\n",
       "px_width         0\n",
       "ram              0\n",
       "dtype: int64"
      ]
     },
     "execution_count": 14,
     "metadata": {},
     "output_type": "execute_result"
    }
   ],
   "source": [
    "df.isnull().sum()"
   ]
  },
  {
   "cell_type": "code",
   "execution_count": 15,
   "id": "9ed061fe",
   "metadata": {},
   "outputs": [
    {
     "name": "stdout",
     "output_type": "stream",
     "text": [
      "<class 'pandas.core.frame.DataFrame'>\n",
      "RangeIndex: 1000 entries, 0 to 999\n",
      "Data columns (total 8 columns):\n",
      " #   Column         Non-Null Count  Dtype  \n",
      "---  ------         --------------  -----  \n",
      " 0   battery_power  1000 non-null   int64  \n",
      " 1   clock_speed    1000 non-null   float64\n",
      " 2   int_memory     1000 non-null   float64\n",
      " 3   wifi           1000 non-null   object \n",
      " 4   px_height      1000 non-null   int64  \n",
      " 5   touch_screen   1000 non-null   object \n",
      " 6   px_width       1000 non-null   int64  \n",
      " 7   ram            1000 non-null   float64\n",
      "dtypes: float64(3), int64(3), object(2)\n",
      "memory usage: 62.6+ KB\n"
     ]
    }
   ],
   "source": [
    "df.info()"
   ]
  },
  {
   "cell_type": "code",
   "execution_count": 16,
   "id": "9fea8eee",
   "metadata": {},
   "outputs": [],
   "source": [
    "le = LabelEncoder()\n",
    "df[\"wifi\"] = le.fit_transform(df[\"wifi\"])\n",
    "df[\"touch_screen\"] = le.fit_transform(df[\"touch_screen\"])"
   ]
  },
  {
   "cell_type": "code",
   "execution_count": 17,
   "id": "2413a71e",
   "metadata": {},
   "outputs": [
    {
     "data": {
      "text/plain": [
       "0    519\n",
       "1    481\n",
       "Name: wifi, dtype: int64"
      ]
     },
     "execution_count": 17,
     "metadata": {},
     "output_type": "execute_result"
    }
   ],
   "source": [
    "df.wifi.value_counts()"
   ]
  },
  {
   "cell_type": "code",
   "execution_count": 18,
   "id": "06e42d8e",
   "metadata": {},
   "outputs": [
    {
     "data": {
      "text/plain": [
       "1    513\n",
       "0    487\n",
       "Name: touch_screen, dtype: int64"
      ]
     },
     "execution_count": 18,
     "metadata": {},
     "output_type": "execute_result"
    }
   ],
   "source": [
    "df.touch_screen.value_counts()"
   ]
  },
  {
   "cell_type": "code",
   "execution_count": 19,
   "id": "53174299",
   "metadata": {},
   "outputs": [
    {
     "data": {
      "text/html": [
       "<div>\n",
       "<style scoped>\n",
       "    .dataframe tbody tr th:only-of-type {\n",
       "        vertical-align: middle;\n",
       "    }\n",
       "\n",
       "    .dataframe tbody tr th {\n",
       "        vertical-align: top;\n",
       "    }\n",
       "\n",
       "    .dataframe thead th {\n",
       "        text-align: right;\n",
       "    }\n",
       "</style>\n",
       "<table border=\"1\" class=\"dataframe\">\n",
       "  <thead>\n",
       "    <tr style=\"text-align: right;\">\n",
       "      <th></th>\n",
       "      <th>battery_power</th>\n",
       "      <th>clock_speed</th>\n",
       "      <th>int_memory</th>\n",
       "      <th>wifi</th>\n",
       "      <th>px_height</th>\n",
       "      <th>touch_screen</th>\n",
       "      <th>px_width</th>\n",
       "      <th>ram</th>\n",
       "    </tr>\n",
       "  </thead>\n",
       "  <tbody>\n",
       "    <tr>\n",
       "      <th>0</th>\n",
       "      <td>1757</td>\n",
       "      <td>0.5</td>\n",
       "      <td>49.0</td>\n",
       "      <td>0</td>\n",
       "      <td>265</td>\n",
       "      <td>0</td>\n",
       "      <td>713</td>\n",
       "      <td>2056.0</td>\n",
       "    </tr>\n",
       "    <tr>\n",
       "      <th>1</th>\n",
       "      <td>1866</td>\n",
       "      <td>1.4</td>\n",
       "      <td>30.0</td>\n",
       "      <td>0</td>\n",
       "      <td>108</td>\n",
       "      <td>0</td>\n",
       "      <td>1781</td>\n",
       "      <td>3834.0</td>\n",
       "    </tr>\n",
       "    <tr>\n",
       "      <th>2</th>\n",
       "      <td>617</td>\n",
       "      <td>2.3</td>\n",
       "      <td>32.0</td>\n",
       "      <td>0</td>\n",
       "      <td>768</td>\n",
       "      <td>0</td>\n",
       "      <td>874</td>\n",
       "      <td>2213.0</td>\n",
       "    </tr>\n",
       "    <tr>\n",
       "      <th>3</th>\n",
       "      <td>1356</td>\n",
       "      <td>2.8</td>\n",
       "      <td>29.0</td>\n",
       "      <td>0</td>\n",
       "      <td>1612</td>\n",
       "      <td>0</td>\n",
       "      <td>1983</td>\n",
       "      <td>3702.0</td>\n",
       "    </tr>\n",
       "    <tr>\n",
       "      <th>4</th>\n",
       "      <td>1049</td>\n",
       "      <td>2.2</td>\n",
       "      <td>63.0</td>\n",
       "      <td>0</td>\n",
       "      <td>199</td>\n",
       "      <td>0</td>\n",
       "      <td>1077</td>\n",
       "      <td>1022.0</td>\n",
       "    </tr>\n",
       "  </tbody>\n",
       "</table>\n",
       "</div>"
      ],
      "text/plain": [
       "   battery_power  clock_speed  int_memory  wifi  px_height  touch_screen  \\\n",
       "0           1757          0.5        49.0     0        265             0   \n",
       "1           1866          1.4        30.0     0        108             0   \n",
       "2            617          2.3        32.0     0        768             0   \n",
       "3           1356          2.8        29.0     0       1612             0   \n",
       "4           1049          2.2        63.0     0        199             0   \n",
       "\n",
       "   px_width     ram  \n",
       "0       713  2056.0  \n",
       "1      1781  3834.0  \n",
       "2       874  2213.0  \n",
       "3      1983  3702.0  \n",
       "4      1077  1022.0  "
      ]
     },
     "execution_count": 19,
     "metadata": {},
     "output_type": "execute_result"
    }
   ],
   "source": [
    "df.head()"
   ]
  },
  {
   "cell_type": "markdown",
   "id": "e2b61864",
   "metadata": {},
   "source": [
    "## Método del Codo"
   ]
  },
  {
   "cell_type": "code",
   "execution_count": 20,
   "id": "b9ca449d",
   "metadata": {},
   "outputs": [
    {
     "data": {
      "text/plain": [
       "[883618553.4598284,\n",
       " 705745856.7995318,\n",
       " 611491528.1195056,\n",
       " 538056897.1682793,\n",
       " 489762824.0506851,\n",
       " 453146569.4711225,\n",
       " 417213952.1824349,\n",
       " 389862436.05316556,\n",
       " 367320746.76652765,\n",
       " 346534417.4083587,\n",
       " 332344765.2108868,\n",
       " 315498760.58509797,\n",
       " 298950483.59654397,\n",
       " 286180973.7773527,\n",
       " 275470649.6031083,\n",
       " 266275473.9051382,\n",
       " 256665686.94944447,\n",
       " 246498762.4241532]"
      ]
     },
     "execution_count": 20,
     "metadata": {},
     "output_type": "execute_result"
    }
   ],
   "source": [
    "inercia = []\n",
    "for i in range (2,20):\n",
    "    km = KMeans(n_clusters=i, init='random',max_iter=300,n_init=10,tol=1e-04, random_state=0)\n",
    "    km.fit(df)\n",
    "    inercia.append(km.inertia_)\n",
    "inercia"
   ]
  },
  {
   "cell_type": "code",
   "execution_count": 22,
   "id": "3643e286",
   "metadata": {},
   "outputs": [
    {
     "data": {
      "text/plain": [
       "[<matplotlib.lines.Line2D at 0x25a9bace4d0>]"
      ]
     },
     "execution_count": 22,
     "metadata": {},
     "output_type": "execute_result"
    },
    {
     "data": {
      "image/png": "[encoded data removed]",
      "text/plain": [
       "<Figure size 720x432 with 1 Axes>"
      ]
     },
     "metadata": {
      "needs_background": "light"
     },
     "output_type": "display_data"
    }
   ],
   "source": [
    "plt.figure(figsize=[10,6])\n",
    "plt.title('Método de codo')\n",
    "plt.xlabel('Num. Clusters')\n",
    "plt.ylabel('Inercia')\n",
    "plt.plot(list(range(2,20)),inercia, marker='o')"
   ]
  },
  {
   "cell_type": "markdown",
   "id": "913091dc",
   "metadata": {},
   "source": [
    "plt.figure(figsize=[10,6])\n",
    "plt.title('Método de codo')\n",
    "plt.xlabel('Num. Clusters')\n",
    "plt.ylabel('Inercia')\n",
    "plt.plot(list(range(1,20)),inercia, marker='o')"
   ]
  },
  {
   "cell_type": "code",
   "execution_count": 23,
   "id": "3b854e45",
   "metadata": {},
   "outputs": [
    {
     "data": {
      "image/png": "[encoded data removed]",
      "text/plain": [
       "<Figure size 432x288 with 1 Axes>"
      ]
     },
     "metadata": {
      "needs_background": "light"
     },
     "output_type": "display_data"
    }
   ],
   "source": [
    "dendogram = sch.dendrogram(sch.linkage(df, method='ward'))\n",
    "plt.title('Dendogram')\n",
    "plt.xlabel('Conjuntos')\n",
    "plt.ylabel('Euclidean Distances')\n",
    "plt.show()"
   ]
  },
  {
   "cell_type": "code",
   "execution_count": 24,
   "id": "ff25ee92",
   "metadata": {},
   "outputs": [
    {
     "data": {
      "text/plain": [
       "array([0, 2, 0, 2, 1, 2, 0, 0, 0, 2, 0, 1, 1, 0, 1, 2, 1, 1, 2, 0, 0, 1,\n",
       "       2, 1, 1, 1, 1, 2, 1, 0, 1, 1, 2, 1, 1, 0, 1, 0, 1, 0, 1, 0, 0, 2,\n",
       "       2, 0, 0, 1, 0, 0, 0, 0, 0, 0, 0, 1, 0, 0, 1, 1, 1, 1, 0, 1, 2, 0,\n",
       "       2, 2, 2, 0, 1, 1, 1, 1, 0, 2, 1, 0, 1, 0, 0, 0, 1, 0, 1, 2, 0, 2,\n",
       "       1, 0, 0, 2, 1, 0, 0, 1, 0, 0, 1, 2, 1, 0, 0, 1, 0, 2, 0, 1, 2, 1,\n",
       "       1, 1, 0, 0, 2, 1, 2, 2, 1, 2, 1, 2, 1, 1, 2, 0, 1, 1, 1, 0, 1, 1,\n",
       "       1, 1, 2, 1, 0, 1, 1, 1, 1, 0, 0, 1, 1, 2, 0, 0, 1, 1, 1, 1, 0, 1,\n",
       "       1, 0, 0, 0, 0, 0, 0, 0, 0, 0, 1, 0, 1, 1, 1, 0, 0, 0, 1, 1, 0, 0,\n",
       "       0, 1, 0, 1, 0, 0, 1, 1, 0, 1, 1, 0, 0, 2, 0, 1, 1, 0, 1, 0, 2, 1,\n",
       "       2, 2, 1, 0, 2, 1, 0, 2, 2, 2, 2, 1, 2, 1, 0, 1, 1, 0, 0, 2, 2, 0,\n",
       "       1, 0, 0, 1, 1, 1, 1, 2, 1, 0, 0, 0, 1, 1, 0, 1, 0, 0, 1, 0, 0, 0,\n",
       "       1, 0, 2, 2, 1, 2, 0, 1, 0, 1, 1, 2, 2, 2, 2, 1, 0, 0, 2, 1, 1, 1,\n",
       "       2, 1, 0, 0, 2, 2, 0, 0, 0, 1, 1, 0, 2, 1, 1, 0, 0, 1, 2, 0, 0, 1,\n",
       "       2, 0, 1, 1, 0, 0, 1, 1, 0, 0, 2, 1, 0, 0, 1, 0, 1, 0, 1, 0, 0, 2,\n",
       "       1, 0, 1, 2, 1, 0, 0, 1, 1, 1, 1, 1, 2, 1, 1, 1, 2, 1, 0, 2, 0, 0,\n",
       "       1, 0, 2, 0, 2, 2, 2, 0, 2, 0, 1, 2, 2, 1, 0, 1, 2, 1, 1, 2, 1, 2,\n",
       "       0, 0, 2, 0, 1, 0, 1, 2, 1, 0, 1, 0, 0, 0, 0, 2, 2, 0, 0, 2, 0, 0,\n",
       "       1, 1, 0, 1, 0, 0, 1, 0, 1, 2, 1, 0, 1, 0, 1, 2, 1, 1, 1, 0, 1, 2,\n",
       "       0, 1, 1, 1, 1, 1, 0, 1, 0, 2, 1, 1, 2, 2, 0, 2, 0, 1, 0, 0, 0, 0,\n",
       "       0, 1, 2, 0, 1, 2, 0, 0, 1, 0, 0, 2, 0, 0, 0, 1, 0, 2, 1, 1, 1, 0,\n",
       "       1, 1, 1, 1, 0, 1, 1, 0, 0, 0, 1, 1, 0, 2, 2, 0, 0, 1, 1, 1, 1, 1,\n",
       "       1, 2, 2, 1, 2, 0, 0, 0, 0, 1, 2, 0, 1, 2, 2, 1, 0, 0, 1, 0, 0, 0,\n",
       "       0, 1, 0, 0, 1, 0, 2, 2, 0, 1, 2, 1, 1, 1, 1, 0, 0, 0, 0, 2, 2, 2,\n",
       "       0, 0, 2, 1, 0, 0, 1, 1, 0, 1, 0, 2, 2, 0, 1, 0, 1, 0, 0, 2, 2, 0,\n",
       "       1, 2, 2, 1, 0, 0, 1, 1, 2, 1, 1, 1, 0, 0, 0, 2, 0, 0, 1, 2, 0, 0,\n",
       "       0, 0, 0, 0, 0, 0, 2, 1, 1, 0, 0, 1, 1, 2, 0, 1, 1, 1, 2, 1, 1, 0,\n",
       "       0, 0, 1, 1, 0, 1, 1, 0, 0, 0, 2, 2, 2, 0, 2, 1, 2, 2, 2, 0, 1, 1,\n",
       "       2, 1, 2, 1, 0, 0, 1, 1, 0, 1, 1, 0, 0, 1, 2, 1, 2, 0, 1, 1, 2, 1,\n",
       "       2, 1, 1, 1, 1, 1, 0, 1, 1, 1, 1, 0, 0, 2, 0, 0, 0, 2, 0, 0, 1, 1,\n",
       "       2, 2, 0, 2, 2, 2, 1, 0, 2, 0, 0, 2, 1, 0, 2, 1, 1, 0, 2, 1, 2, 0,\n",
       "       0, 0, 0, 2, 0, 0, 0, 1, 1, 1, 1, 0, 2, 0, 0, 0, 1, 0, 2, 0, 0, 0,\n",
       "       0, 1, 2, 2, 1, 0, 2, 1, 1, 0, 2, 1, 0, 1, 2, 0, 2, 1, 0, 0, 0, 0,\n",
       "       1, 2, 0, 2, 0, 0, 2, 0, 0, 1, 1, 0, 0, 1, 1, 0, 0, 2, 0, 1, 2, 1,\n",
       "       2, 1, 1, 0, 1, 1, 2, 0, 1, 2, 1, 1, 1, 1, 1, 0, 0, 1, 0, 0, 2, 1,\n",
       "       1, 0, 1, 2, 1, 1, 1, 1, 2, 1, 1, 2, 0, 1, 0, 1, 1, 1, 0, 2, 2, 1,\n",
       "       1, 2, 2, 0, 1, 1, 1, 0, 2, 0, 0, 0, 1, 2, 1, 1, 0, 1, 2, 0, 2, 0,\n",
       "       1, 1, 2, 1, 0, 2, 1, 0, 1, 2, 0, 1, 2, 0, 0, 1, 0, 1, 1, 0, 1, 2,\n",
       "       1, 0, 0, 2, 2, 1, 2, 1, 0, 2, 1, 2, 1, 0, 0, 2, 1, 1, 0, 1, 2, 0,\n",
       "       1, 1, 0, 0, 1, 1, 1, 1, 2, 1, 0, 0, 0, 2, 0, 0, 1, 0, 0, 1, 1, 0,\n",
       "       1, 0, 1, 1, 0, 0, 1, 2, 2, 0, 1, 0, 0, 2, 0, 2, 0, 1, 0, 2, 0, 0,\n",
       "       1, 0, 2, 1, 1, 2, 0, 1, 0, 0, 0, 0, 2, 0, 2, 1, 1, 0, 2, 1, 0, 2,\n",
       "       0, 1, 0, 0, 2, 1, 2, 1, 0, 0, 1, 1, 0, 1, 1, 1, 0, 0, 2, 1, 2, 2,\n",
       "       0, 1, 1, 2, 1, 2, 2, 2, 0, 1, 0, 1, 1, 0, 0, 0, 0, 0, 0, 0, 1, 0,\n",
       "       1, 2, 0, 1, 0, 1, 0, 1, 1, 0, 0, 0, 1, 2, 0, 0, 2, 1, 1, 1, 0, 1,\n",
       "       1, 2, 0, 1, 0, 2, 0, 1, 0, 1, 0, 1, 0, 2, 0, 2, 2, 0, 0, 2, 1, 0,\n",
       "       0, 0, 1, 0, 0, 2, 0, 2, 1, 0], dtype=int64)"
      ]
     },
     "execution_count": 24,
     "metadata": {},
     "output_type": "execute_result"
    }
   ],
   "source": [
    "hc = AgglomerativeClustering(n_clusters=3, affinity='euclidean',linkage='ward')\n",
    "y_Agc = hc.fit_predict(df)\n",
    "y_Agc"
   ]
  },
  {
   "cell_type": "code",
   "execution_count": 25,
   "id": "8c9bf602",
   "metadata": {},
   "outputs": [
    {
     "data": {
      "text/html": [
       "<div>\n",
       "<style scoped>\n",
       "    .dataframe tbody tr th:only-of-type {\n",
       "        vertical-align: middle;\n",
       "    }\n",
       "\n",
       "    .dataframe tbody tr th {\n",
       "        vertical-align: top;\n",
       "    }\n",
       "\n",
       "    .dataframe thead th {\n",
       "        text-align: right;\n",
       "    }\n",
       "</style>\n",
       "<table border=\"1\" class=\"dataframe\">\n",
       "  <thead>\n",
       "    <tr style=\"text-align: right;\">\n",
       "      <th></th>\n",
       "      <th>battery_power</th>\n",
       "      <th>clock_speed</th>\n",
       "      <th>int_memory</th>\n",
       "      <th>wifi</th>\n",
       "      <th>px_height</th>\n",
       "      <th>touch_screen</th>\n",
       "      <th>px_width</th>\n",
       "      <th>ram</th>\n",
       "      <th>tipo</th>\n",
       "    </tr>\n",
       "  </thead>\n",
       "  <tbody>\n",
       "    <tr>\n",
       "      <th>0</th>\n",
       "      <td>1757</td>\n",
       "      <td>0.5</td>\n",
       "      <td>49.0</td>\n",
       "      <td>0</td>\n",
       "      <td>265</td>\n",
       "      <td>0</td>\n",
       "      <td>713</td>\n",
       "      <td>2056.0</td>\n",
       "      <td>0</td>\n",
       "    </tr>\n",
       "    <tr>\n",
       "      <th>1</th>\n",
       "      <td>1866</td>\n",
       "      <td>1.4</td>\n",
       "      <td>30.0</td>\n",
       "      <td>0</td>\n",
       "      <td>108</td>\n",
       "      <td>0</td>\n",
       "      <td>1781</td>\n",
       "      <td>3834.0</td>\n",
       "      <td>2</td>\n",
       "    </tr>\n",
       "    <tr>\n",
       "      <th>2</th>\n",
       "      <td>617</td>\n",
       "      <td>2.3</td>\n",
       "      <td>32.0</td>\n",
       "      <td>0</td>\n",
       "      <td>768</td>\n",
       "      <td>0</td>\n",
       "      <td>874</td>\n",
       "      <td>2213.0</td>\n",
       "      <td>0</td>\n",
       "    </tr>\n",
       "    <tr>\n",
       "      <th>3</th>\n",
       "      <td>1356</td>\n",
       "      <td>2.8</td>\n",
       "      <td>29.0</td>\n",
       "      <td>0</td>\n",
       "      <td>1612</td>\n",
       "      <td>0</td>\n",
       "      <td>1983</td>\n",
       "      <td>3702.0</td>\n",
       "      <td>2</td>\n",
       "    </tr>\n",
       "    <tr>\n",
       "      <th>4</th>\n",
       "      <td>1049</td>\n",
       "      <td>2.2</td>\n",
       "      <td>63.0</td>\n",
       "      <td>0</td>\n",
       "      <td>199</td>\n",
       "      <td>0</td>\n",
       "      <td>1077</td>\n",
       "      <td>1022.0</td>\n",
       "      <td>1</td>\n",
       "    </tr>\n",
       "  </tbody>\n",
       "</table>\n",
       "</div>"
      ],
      "text/plain": [
       "   battery_power  clock_speed  int_memory  wifi  px_height  touch_screen  \\\n",
       "0           1757          0.5        49.0     0        265             0   \n",
       "1           1866          1.4        30.0     0        108             0   \n",
       "2            617          2.3        32.0     0        768             0   \n",
       "3           1356          2.8        29.0     0       1612             0   \n",
       "4           1049          2.2        63.0     0        199             0   \n",
       "\n",
       "   px_width     ram  tipo  \n",
       "0       713  2056.0     0  \n",
       "1      1781  3834.0     2  \n",
       "2       874  2213.0     0  \n",
       "3      1983  3702.0     2  \n",
       "4      1077  1022.0     1  "
      ]
     },
     "execution_count": 25,
     "metadata": {},
     "output_type": "execute_result"
    }
   ],
   "source": [
    "df['tipo'] = y_Agc\n",
    "df.head()"
   ]
  },
  {
   "cell_type": "code",
   "execution_count": 26,
   "id": "34d4d465",
   "metadata": {},
   "outputs": [
    {
     "data": {
      "text/html": [
       "<div>\n",
       "<style scoped>\n",
       "    .dataframe tbody tr th:only-of-type {\n",
       "        vertical-align: middle;\n",
       "    }\n",
       "\n",
       "    .dataframe tbody tr th {\n",
       "        vertical-align: top;\n",
       "    }\n",
       "\n",
       "    .dataframe thead th {\n",
       "        text-align: right;\n",
       "    }\n",
       "</style>\n",
       "<table border=\"1\" class=\"dataframe\">\n",
       "  <thead>\n",
       "    <tr style=\"text-align: right;\">\n",
       "      <th></th>\n",
       "      <th>battery_power</th>\n",
       "      <th>clock_speed</th>\n",
       "      <th>int_memory</th>\n",
       "      <th>wifi</th>\n",
       "      <th>px_height</th>\n",
       "      <th>touch_screen</th>\n",
       "      <th>px_width</th>\n",
       "      <th>ram</th>\n",
       "    </tr>\n",
       "  </thead>\n",
       "  <tbody>\n",
       "    <tr>\n",
       "      <th>0</th>\n",
       "      <td>1757</td>\n",
       "      <td>0.5</td>\n",
       "      <td>49.0</td>\n",
       "      <td>0</td>\n",
       "      <td>265</td>\n",
       "      <td>0</td>\n",
       "      <td>713</td>\n",
       "      <td>2056.000000</td>\n",
       "    </tr>\n",
       "    <tr>\n",
       "      <th>1</th>\n",
       "      <td>1866</td>\n",
       "      <td>1.4</td>\n",
       "      <td>30.0</td>\n",
       "      <td>0</td>\n",
       "      <td>108</td>\n",
       "      <td>0</td>\n",
       "      <td>1781</td>\n",
       "      <td>3834.000000</td>\n",
       "    </tr>\n",
       "    <tr>\n",
       "      <th>2</th>\n",
       "      <td>617</td>\n",
       "      <td>2.3</td>\n",
       "      <td>32.0</td>\n",
       "      <td>0</td>\n",
       "      <td>768</td>\n",
       "      <td>0</td>\n",
       "      <td>874</td>\n",
       "      <td>2213.000000</td>\n",
       "    </tr>\n",
       "    <tr>\n",
       "      <th>3</th>\n",
       "      <td>1356</td>\n",
       "      <td>2.8</td>\n",
       "      <td>29.0</td>\n",
       "      <td>0</td>\n",
       "      <td>1612</td>\n",
       "      <td>0</td>\n",
       "      <td>1983</td>\n",
       "      <td>3702.000000</td>\n",
       "    </tr>\n",
       "    <tr>\n",
       "      <th>4</th>\n",
       "      <td>1049</td>\n",
       "      <td>2.2</td>\n",
       "      <td>63.0</td>\n",
       "      <td>0</td>\n",
       "      <td>199</td>\n",
       "      <td>0</td>\n",
       "      <td>1077</td>\n",
       "      <td>1022.000000</td>\n",
       "    </tr>\n",
       "    <tr>\n",
       "      <th>...</th>\n",
       "      <td>...</td>\n",
       "      <td>...</td>\n",
       "      <td>...</td>\n",
       "      <td>...</td>\n",
       "      <td>...</td>\n",
       "      <td>...</td>\n",
       "      <td>...</td>\n",
       "      <td>...</td>\n",
       "    </tr>\n",
       "    <tr>\n",
       "      <th>995</th>\n",
       "      <td>595</td>\n",
       "      <td>0.9</td>\n",
       "      <td>23.0</td>\n",
       "      <td>0</td>\n",
       "      <td>441</td>\n",
       "      <td>1</td>\n",
       "      <td>810</td>\n",
       "      <td>3752.000000</td>\n",
       "    </tr>\n",
       "    <tr>\n",
       "      <th>996</th>\n",
       "      <td>1310</td>\n",
       "      <td>2.2</td>\n",
       "      <td>51.0</td>\n",
       "      <td>0</td>\n",
       "      <td>178</td>\n",
       "      <td>1</td>\n",
       "      <td>1919</td>\n",
       "      <td>2085.160282</td>\n",
       "    </tr>\n",
       "    <tr>\n",
       "      <th>997</th>\n",
       "      <td>1725</td>\n",
       "      <td>1.6</td>\n",
       "      <td>6.0</td>\n",
       "      <td>0</td>\n",
       "      <td>609</td>\n",
       "      <td>1</td>\n",
       "      <td>1307</td>\n",
       "      <td>3429.000000</td>\n",
       "    </tr>\n",
       "    <tr>\n",
       "      <th>998</th>\n",
       "      <td>1253</td>\n",
       "      <td>0.5</td>\n",
       "      <td>5.0</td>\n",
       "      <td>0</td>\n",
       "      <td>685</td>\n",
       "      <td>1</td>\n",
       "      <td>714</td>\n",
       "      <td>1878.000000</td>\n",
       "    </tr>\n",
       "    <tr>\n",
       "      <th>999</th>\n",
       "      <td>1654</td>\n",
       "      <td>1.5</td>\n",
       "      <td>43.0</td>\n",
       "      <td>0</td>\n",
       "      <td>546</td>\n",
       "      <td>1</td>\n",
       "      <td>629</td>\n",
       "      <td>3112.000000</td>\n",
       "    </tr>\n",
       "  </tbody>\n",
       "</table>\n",
       "<p>1000 rows × 8 columns</p>\n",
       "</div>"
      ],
      "text/plain": [
       "     battery_power  clock_speed  int_memory  wifi  px_height  touch_screen  \\\n",
       "0             1757          0.5        49.0     0        265             0   \n",
       "1             1866          1.4        30.0     0        108             0   \n",
       "2              617          2.3        32.0     0        768             0   \n",
       "3             1356          2.8        29.0     0       1612             0   \n",
       "4             1049          2.2        63.0     0        199             0   \n",
       "..             ...          ...         ...   ...        ...           ...   \n",
       "995            595          0.9        23.0     0        441             1   \n",
       "996           1310          2.2        51.0     0        178             1   \n",
       "997           1725          1.6         6.0     0        609             1   \n",
       "998           1253          0.5         5.0     0        685             1   \n",
       "999           1654          1.5        43.0     0        546             1   \n",
       "\n",
       "     px_width          ram  \n",
       "0         713  2056.000000  \n",
       "1        1781  3834.000000  \n",
       "2         874  2213.000000  \n",
       "3        1983  3702.000000  \n",
       "4        1077  1022.000000  \n",
       "..        ...          ...  \n",
       "995       810  3752.000000  \n",
       "996      1919  2085.160282  \n",
       "997      1307  3429.000000  \n",
       "998       714  1878.000000  \n",
       "999       629  3112.000000  \n",
       "\n",
       "[1000 rows x 8 columns]"
      ]
     },
     "execution_count": 26,
     "metadata": {},
     "output_type": "execute_result"
    }
   ],
   "source": [
    "x = df.iloc[:,:-1]\n",
    "x"
   ]
  },
  {
   "cell_type": "code",
   "execution_count": 27,
   "id": "4e5efbfc",
   "metadata": {},
   "outputs": [
    {
     "data": {
      "text/plain": [
       "0      0\n",
       "1      2\n",
       "2      0\n",
       "3      2\n",
       "4      1\n",
       "      ..\n",
       "995    2\n",
       "996    0\n",
       "997    2\n",
       "998    1\n",
       "999    0\n",
       "Name: tipo, Length: 1000, dtype: int64"
      ]
     },
     "execution_count": 27,
     "metadata": {},
     "output_type": "execute_result"
    }
   ],
   "source": [
    "y = df.iloc[:,-1]\n",
    "y"
   ]
  },
  {
   "cell_type": "code",
   "execution_count": 28,
   "id": "6dbd3a9c",
   "metadata": {},
   "outputs": [
    {
     "data": {
      "text/plain": [
       "(800, 8)"
      ]
     },
     "execution_count": 28,
     "metadata": {},
     "output_type": "execute_result"
    }
   ],
   "source": [
    "from sklearn.model_selection import train_test_split as tts\n",
    "x_train, x_test, y_train, y_test = tts(x,y, test_size=0.2)\n",
    "x_train.shape"
   ]
  },
  {
   "cell_type": "code",
   "execution_count": 39,
   "id": "d7e69f07",
   "metadata": {},
   "outputs": [
    {
     "name": "stdout",
     "output_type": "stream",
     "text": [
      "0.905\n"
     ]
    }
   ],
   "source": [
    "from sklearn import tree\n",
    "import matplotlib.pyplot as plt\n",
    "arbol_decision = tree.DecisionTreeClassifier(criterion=\"gini\",max_depth=3)\n",
    "\n",
    "arbol = arbol_decision.fit(x_train, y_train)\n",
    "accuracy = arbol_decision.score(x_test,y_test)\n",
    "print(accuracy)"
   ]
  },
  {
   "cell_type": "code",
   "execution_count": 40,
   "id": "74f12a00",
   "metadata": {},
   "outputs": [
    {
     "data": {
      "text/plain": [
       "array([0.87 , 0.915, 0.92 , 0.89 , 0.93 ])"
      ]
     },
     "execution_count": 40,
     "metadata": {},
     "output_type": "execute_result"
    }
   ],
   "source": [
    "from sklearn.model_selection import cross_val_score\n",
    "score = cross_val_score(arbol, x, y, scoring = \"accuracy\", cv=5, n_jobs=-1)\n",
    "score"
   ]
  },
  {
   "cell_type": "code",
   "execution_count": 41,
   "id": "cd1e8be6",
   "metadata": {},
   "outputs": [
    {
     "data": {
      "text/plain": [
       "0.905"
      ]
     },
     "execution_count": 41,
     "metadata": {},
     "output_type": "execute_result"
    }
   ],
   "source": [
    "score.mean()"
   ]
  },
  {
   "cell_type": "code",
   "execution_count": 42,
   "id": "db1f9b1b",
   "metadata": {},
   "outputs": [
    {
     "data": {
      "image/png": "[encoded data removed]",
      "text/plain": [
       "<Figure size 864x432 with 1 Axes>"
      ]
     },
     "metadata": {
      "needs_background": "light"
     },
     "output_type": "display_data"
    }
   ],
   "source": [
    "plt.figure(figsize=(12,6))\n",
    "tree.plot_tree(arbol, feature_names=[\"battery_power\",\"clock_speed\",\"int_memory\",\"wifi\",\"px_height\",\"touch_screen\",\"px_width\",\"ram\"])\n",
    "\n",
    "plt.show()"
   ]
  },
  {
   "cell_type": "code",
   "execution_count": 43,
   "id": "577ca300",
   "metadata": {},
   "outputs": [
    {
     "name": "stdout",
     "output_type": "stream",
     "text": [
      "|--- ram <= 1569.50\n",
      "|   |--- px_height <= 1441.50\n",
      "|   |   |--- ram <= 1427.00\n",
      "|   |   |   |--- class: 1\n",
      "|   |   |--- ram >  1427.00\n",
      "|   |   |   |--- class: 1\n",
      "|   |--- px_height >  1441.50\n",
      "|   |   |--- ram <= 874.50\n",
      "|   |   |   |--- class: 1\n",
      "|   |   |--- ram >  874.50\n",
      "|   |   |   |--- class: 0\n",
      "|--- ram >  1569.50\n",
      "|   |--- ram <= 3128.00\n",
      "|   |   |--- ram <= 2207.00\n",
      "|   |   |   |--- class: 0\n",
      "|   |   |--- ram >  2207.00\n",
      "|   |   |   |--- class: 0\n",
      "|   |--- ram >  3128.00\n",
      "|   |   |--- ram <= 3287.00\n",
      "|   |   |   |--- class: 2\n",
      "|   |   |--- ram >  3287.00\n",
      "|   |   |   |--- class: 2\n",
      "\n"
     ]
    }
   ],
   "source": [
    "print(tree.export_text(arbol, feature_names=[\"battery_power\",\"clock_speed\",\"int_memory\",\"wifi\",\"px_height\",\"touch_screen\",\"px_width\",\"ram\"]))"
   ]
  },
  {
   "cell_type": "code",
   "execution_count": null,
   "id": "2320e994",
   "metadata": {},
   "outputs": [],
   "source": []
  }
 ],
 "metadata": {
  "kernelspec": {
   "display_name": "Python 3 (ipykernel)",
   "language": "python",
   "name": "python3"
  },
  "language_info": {
   "codemirror_mode": {
    "name": "ipython",
    "version": 3
   },
   "file_extension": ".py",
   "mimetype": "text/x-python",
   "name": "python",
   "nbconvert_exporter": "python",
   "pygments_lexer": "ipython3",
   "version": "3.10.4"
  }
 },
 "nbformat": 4,
 "nbformat_minor": 5
}
