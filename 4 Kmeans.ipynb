{
 "cells": [
  {
   "cell_type": "code",
   "execution_count": 32,
   "id": "7494d1c1",
   "metadata": {},
   "outputs": [],
   "source": [
    "#Importaciones\n",
    "import pandas as pd\n",
    "import matplotlib.pyplot as plt\n",
    "from matplotlib import markers\n",
    "from sklearn.cluster import KMeans\n",
    "import scipy.cluster.hierarchy as sch\n",
    "from sklearn.cluster import AgglomerativeClustering\n",
    "from sklearn import metrics\n",
    "from sklearn.preprocessing import LabelEncoder\n",
    "from sklearn.ensemble import IsolationForest"
   ]
  },
  {
   "cell_type": "code",
   "execution_count": 33,
   "id": "3197b3ea",
   "metadata": {},
   "outputs": [
    {
     "data": {
      "text/html": [
       "<div>\n",
       "<style scoped>\n",
       "    .dataframe tbody tr th:only-of-type {\n",
       "        vertical-align: middle;\n",
       "    }\n",
       "\n",
       "    .dataframe tbody tr th {\n",
       "        vertical-align: top;\n",
       "    }\n",
       "\n",
       "    .dataframe thead th {\n",
       "        text-align: right;\n",
       "    }\n",
       "</style>\n",
       "<table border=\"1\" class=\"dataframe\">\n",
       "  <thead>\n",
       "    <tr style=\"text-align: right;\">\n",
       "      <th></th>\n",
       "      <th>no_reg</th>\n",
       "      <th>battery_power</th>\n",
       "      <th>clock_speed</th>\n",
       "      <th>int_memory</th>\n",
       "      <th>m_dep</th>\n",
       "      <th>n_cores</th>\n",
       "      <th>wifi</th>\n",
       "      <th>px_height</th>\n",
       "      <th>touch_screen</th>\n",
       "      <th>px_width</th>\n",
       "      <th>ram</th>\n",
       "    </tr>\n",
       "  </thead>\n",
       "  <tbody>\n",
       "    <tr>\n",
       "      <th>0</th>\n",
       "      <td>1</td>\n",
       "      <td>1757</td>\n",
       "      <td>0.5</td>\n",
       "      <td>49.0</td>\n",
       "      <td>NaN</td>\n",
       "      <td>6.0</td>\n",
       "      <td>NO</td>\n",
       "      <td>265</td>\n",
       "      <td>N</td>\n",
       "      <td>713</td>\n",
       "      <td>2056.0</td>\n",
       "    </tr>\n",
       "    <tr>\n",
       "      <th>1</th>\n",
       "      <td>2</td>\n",
       "      <td>1866</td>\n",
       "      <td>1.4</td>\n",
       "      <td>30.0</td>\n",
       "      <td>NaN</td>\n",
       "      <td>3.0</td>\n",
       "      <td>NO</td>\n",
       "      <td>108</td>\n",
       "      <td>N</td>\n",
       "      <td>1781</td>\n",
       "      <td>3834.0</td>\n",
       "    </tr>\n",
       "    <tr>\n",
       "      <th>2</th>\n",
       "      <td>3</td>\n",
       "      <td>617</td>\n",
       "      <td>2.3</td>\n",
       "      <td>32.0</td>\n",
       "      <td>NaN</td>\n",
       "      <td>7.0</td>\n",
       "      <td>NO</td>\n",
       "      <td>768</td>\n",
       "      <td>N</td>\n",
       "      <td>874</td>\n",
       "      <td>2213.0</td>\n",
       "    </tr>\n",
       "    <tr>\n",
       "      <th>3</th>\n",
       "      <td>4</td>\n",
       "      <td>1356</td>\n",
       "      <td>2.8</td>\n",
       "      <td>29.0</td>\n",
       "      <td>NaN</td>\n",
       "      <td>6.0</td>\n",
       "      <td>NO</td>\n",
       "      <td>1612</td>\n",
       "      <td>N</td>\n",
       "      <td>1983</td>\n",
       "      <td>3702.0</td>\n",
       "    </tr>\n",
       "    <tr>\n",
       "      <th>4</th>\n",
       "      <td>5</td>\n",
       "      <td>1049</td>\n",
       "      <td>2.2</td>\n",
       "      <td>63.0</td>\n",
       "      <td>NaN</td>\n",
       "      <td>5.0</td>\n",
       "      <td>NO</td>\n",
       "      <td>199</td>\n",
       "      <td>N</td>\n",
       "      <td>1077</td>\n",
       "      <td>1022.0</td>\n",
       "    </tr>\n",
       "  </tbody>\n",
       "</table>\n",
       "</div>"
      ],
      "text/plain": [
       "   no_reg  battery_power  clock_speed  int_memory  m_dep  n_cores wifi  \\\n",
       "0       1           1757          0.5        49.0    NaN      6.0   NO   \n",
       "1       2           1866          1.4        30.0    NaN      3.0   NO   \n",
       "2       3            617          2.3        32.0    NaN      7.0   NO   \n",
       "3       4           1356          2.8        29.0    NaN      6.0   NO   \n",
       "4       5           1049          2.2        63.0    NaN      5.0   NO   \n",
       "\n",
       "   px_height touch_screen  px_width     ram  \n",
       "0        265            N       713  2056.0  \n",
       "1        108            N      1781  3834.0  \n",
       "2        768            N       874  2213.0  \n",
       "3       1612            N      1983  3702.0  \n",
       "4        199            N      1077  1022.0  "
      ]
     },
     "execution_count": 33,
     "metadata": {},
     "output_type": "execute_result"
    }
   ],
   "source": [
    "df= pd.read_csv('examenm3.csv')\n",
    "df.head(5)"
   ]
  },
  {
   "cell_type": "code",
   "execution_count": 34,
   "id": "256c9478",
   "metadata": {
    "scrolled": true
   },
   "outputs": [
    {
     "name": "stdout",
     "output_type": "stream",
     "text": [
      "<class 'pandas.core.frame.DataFrame'>\n",
      "RangeIndex: 1000 entries, 0 to 999\n",
      "Data columns (total 11 columns):\n",
      " #   Column         Non-Null Count  Dtype  \n",
      "---  ------         --------------  -----  \n",
      " 0   no_reg         1000 non-null   int64  \n",
      " 1   battery_power  1000 non-null   int64  \n",
      " 2   clock_speed    1000 non-null   float64\n",
      " 3   int_memory     973 non-null    float64\n",
      " 4   m_dep          0 non-null      float64\n",
      " 5   n_cores        153 non-null    float64\n",
      " 6   wifi           991 non-null    object \n",
      " 7   px_height      1000 non-null   int64  \n",
      " 8   touch_screen   1000 non-null   object \n",
      " 9   px_width       1000 non-null   int64  \n",
      " 10  ram            992 non-null    float64\n",
      "dtypes: float64(5), int64(4), object(2)\n",
      "memory usage: 86.1+ KB\n"
     ]
    }
   ],
   "source": [
    "df.info()"
   ]
  },
  {
   "cell_type": "code",
   "execution_count": 35,
   "id": "99ae383c",
   "metadata": {},
   "outputs": [],
   "source": [
    "df.drop(['m_dep'],axis=1,inplace=True)"
   ]
  },
  {
   "cell_type": "code",
   "execution_count": 36,
   "id": "eb2a710c",
   "metadata": {},
   "outputs": [],
   "source": [
    "df.drop(['no_reg'],axis=1,inplace=True)"
   ]
  },
  {
   "cell_type": "code",
   "execution_count": 37,
   "id": "7cc0a903",
   "metadata": {},
   "outputs": [
    {
     "name": "stdout",
     "output_type": "stream",
     "text": [
      "<class 'pandas.core.frame.DataFrame'>\n",
      "RangeIndex: 1000 entries, 0 to 999\n",
      "Data columns (total 9 columns):\n",
      " #   Column         Non-Null Count  Dtype  \n",
      "---  ------         --------------  -----  \n",
      " 0   battery_power  1000 non-null   int64  \n",
      " 1   clock_speed    1000 non-null   float64\n",
      " 2   int_memory     973 non-null    float64\n",
      " 3   n_cores        153 non-null    float64\n",
      " 4   wifi           991 non-null    object \n",
      " 5   px_height      1000 non-null   int64  \n",
      " 6   touch_screen   1000 non-null   object \n",
      " 7   px_width       1000 non-null   int64  \n",
      " 8   ram            992 non-null    float64\n",
      "dtypes: float64(4), int64(3), object(2)\n",
      "memory usage: 70.4+ KB\n"
     ]
    }
   ],
   "source": [
    "df.info()"
   ]
  },
  {
   "cell_type": "code",
   "execution_count": 38,
   "id": "567c97d3",
   "metadata": {},
   "outputs": [
    {
     "data": {
      "text/plain": [
       "battery_power      0\n",
       "clock_speed        0\n",
       "int_memory        27\n",
       "n_cores          847\n",
       "wifi               9\n",
       "px_height          0\n",
       "touch_screen       0\n",
       "px_width           0\n",
       "ram                8\n",
       "dtype: int64"
      ]
     },
     "execution_count": 38,
     "metadata": {},
     "output_type": "execute_result"
    }
   ],
   "source": [
    "df.isnull().sum()"
   ]
  },
  {
   "cell_type": "code",
   "execution_count": 39,
   "id": "d0df8433",
   "metadata": {},
   "outputs": [],
   "source": [
    "df['int_memory'] = df['int_memory'].fillna(df['int_memory'].mean())"
   ]
  },
  {
   "cell_type": "code",
   "execution_count": 40,
   "id": "803b8af2",
   "metadata": {},
   "outputs": [],
   "source": [
    "df['wifi'] = df['wifi'].fillna(df['wifi'].mode()[0])"
   ]
  },
  {
   "cell_type": "code",
   "execution_count": 41,
   "id": "15838a50",
   "metadata": {},
   "outputs": [],
   "source": [
    "df['ram'] = df['ram'].fillna(df['ram'].mean())"
   ]
  },
  {
   "cell_type": "code",
   "execution_count": 42,
   "id": "7eff8159",
   "metadata": {},
   "outputs": [],
   "source": [
    "df['n_cores'] = df['n_cores'].fillna(df['n_cores'].mean())"
   ]
  },
  {
   "cell_type": "code",
   "execution_count": 43,
   "id": "78b51c43",
   "metadata": {},
   "outputs": [
    {
     "data": {
      "text/plain": [
       "battery_power    0\n",
       "clock_speed      0\n",
       "int_memory       0\n",
       "n_cores          0\n",
       "wifi             0\n",
       "px_height        0\n",
       "touch_screen     0\n",
       "px_width         0\n",
       "ram              0\n",
       "dtype: int64"
      ]
     },
     "execution_count": 43,
     "metadata": {},
     "output_type": "execute_result"
    }
   ],
   "source": [
    "df.isnull().sum()"
   ]
  },
  {
   "cell_type": "code",
   "execution_count": 44,
   "id": "49e6eb0c",
   "metadata": {},
   "outputs": [
    {
     "name": "stdout",
     "output_type": "stream",
     "text": [
      "<class 'pandas.core.frame.DataFrame'>\n",
      "RangeIndex: 1000 entries, 0 to 999\n",
      "Data columns (total 9 columns):\n",
      " #   Column         Non-Null Count  Dtype  \n",
      "---  ------         --------------  -----  \n",
      " 0   battery_power  1000 non-null   int64  \n",
      " 1   clock_speed    1000 non-null   float64\n",
      " 2   int_memory     1000 non-null   float64\n",
      " 3   n_cores        1000 non-null   float64\n",
      " 4   wifi           1000 non-null   object \n",
      " 5   px_height      1000 non-null   int64  \n",
      " 6   touch_screen   1000 non-null   object \n",
      " 7   px_width       1000 non-null   int64  \n",
      " 8   ram            1000 non-null   float64\n",
      "dtypes: float64(4), int64(3), object(2)\n",
      "memory usage: 70.4+ KB\n"
     ]
    }
   ],
   "source": [
    "df.info()"
   ]
  },
  {
   "cell_type": "code",
   "execution_count": 45,
   "id": "435968ac",
   "metadata": {},
   "outputs": [],
   "source": [
    "le = LabelEncoder()\n",
    "df[\"wifi\"] = le.fit_transform(df[\"wifi\"])\n",
    "df[\"touch_screen\"] = le.fit_transform(df[\"touch_screen\"])"
   ]
  },
  {
   "cell_type": "code",
   "execution_count": 46,
   "id": "ba95cd2a",
   "metadata": {},
   "outputs": [
    {
     "data": {
      "text/plain": [
       "0    519\n",
       "1    481\n",
       "Name: wifi, dtype: int64"
      ]
     },
     "execution_count": 46,
     "metadata": {},
     "output_type": "execute_result"
    }
   ],
   "source": [
    "df.wifi.value_counts()"
   ]
  },
  {
   "cell_type": "code",
   "execution_count": 47,
   "id": "877c87b4",
   "metadata": {},
   "outputs": [
    {
     "data": {
      "text/plain": [
       "1    513\n",
       "0    487\n",
       "Name: touch_screen, dtype: int64"
      ]
     },
     "execution_count": 47,
     "metadata": {},
     "output_type": "execute_result"
    }
   ],
   "source": [
    "df.touch_screen.value_counts()"
   ]
  },
  {
   "cell_type": "code",
   "execution_count": 48,
   "id": "bc00de74",
   "metadata": {},
   "outputs": [
    {
     "data": {
      "text/html": [
       "<div>\n",
       "<style scoped>\n",
       "    .dataframe tbody tr th:only-of-type {\n",
       "        vertical-align: middle;\n",
       "    }\n",
       "\n",
       "    .dataframe tbody tr th {\n",
       "        vertical-align: top;\n",
       "    }\n",
       "\n",
       "    .dataframe thead th {\n",
       "        text-align: right;\n",
       "    }\n",
       "</style>\n",
       "<table border=\"1\" class=\"dataframe\">\n",
       "  <thead>\n",
       "    <tr style=\"text-align: right;\">\n",
       "      <th></th>\n",
       "      <th>battery_power</th>\n",
       "      <th>clock_speed</th>\n",
       "      <th>int_memory</th>\n",
       "      <th>n_cores</th>\n",
       "      <th>wifi</th>\n",
       "      <th>px_height</th>\n",
       "      <th>touch_screen</th>\n",
       "      <th>px_width</th>\n",
       "      <th>ram</th>\n",
       "    </tr>\n",
       "  </thead>\n",
       "  <tbody>\n",
       "    <tr>\n",
       "      <th>0</th>\n",
       "      <td>1757</td>\n",
       "      <td>0.5</td>\n",
       "      <td>49.0</td>\n",
       "      <td>6.0</td>\n",
       "      <td>0</td>\n",
       "      <td>265</td>\n",
       "      <td>0</td>\n",
       "      <td>713</td>\n",
       "      <td>2056.0</td>\n",
       "    </tr>\n",
       "    <tr>\n",
       "      <th>1</th>\n",
       "      <td>1866</td>\n",
       "      <td>1.4</td>\n",
       "      <td>30.0</td>\n",
       "      <td>3.0</td>\n",
       "      <td>0</td>\n",
       "      <td>108</td>\n",
       "      <td>0</td>\n",
       "      <td>1781</td>\n",
       "      <td>3834.0</td>\n",
       "    </tr>\n",
       "    <tr>\n",
       "      <th>2</th>\n",
       "      <td>617</td>\n",
       "      <td>2.3</td>\n",
       "      <td>32.0</td>\n",
       "      <td>7.0</td>\n",
       "      <td>0</td>\n",
       "      <td>768</td>\n",
       "      <td>0</td>\n",
       "      <td>874</td>\n",
       "      <td>2213.0</td>\n",
       "    </tr>\n",
       "    <tr>\n",
       "      <th>3</th>\n",
       "      <td>1356</td>\n",
       "      <td>2.8</td>\n",
       "      <td>29.0</td>\n",
       "      <td>6.0</td>\n",
       "      <td>0</td>\n",
       "      <td>1612</td>\n",
       "      <td>0</td>\n",
       "      <td>1983</td>\n",
       "      <td>3702.0</td>\n",
       "    </tr>\n",
       "    <tr>\n",
       "      <th>4</th>\n",
       "      <td>1049</td>\n",
       "      <td>2.2</td>\n",
       "      <td>63.0</td>\n",
       "      <td>5.0</td>\n",
       "      <td>0</td>\n",
       "      <td>199</td>\n",
       "      <td>0</td>\n",
       "      <td>1077</td>\n",
       "      <td>1022.0</td>\n",
       "    </tr>\n",
       "  </tbody>\n",
       "</table>\n",
       "</div>"
      ],
      "text/plain": [
       "   battery_power  clock_speed  int_memory  n_cores  wifi  px_height  \\\n",
       "0           1757          0.5        49.0      6.0     0        265   \n",
       "1           1866          1.4        30.0      3.0     0        108   \n",
       "2            617          2.3        32.0      7.0     0        768   \n",
       "3           1356          2.8        29.0      6.0     0       1612   \n",
       "4           1049          2.2        63.0      5.0     0        199   \n",
       "\n",
       "   touch_screen  px_width     ram  \n",
       "0             0       713  2056.0  \n",
       "1             0      1781  3834.0  \n",
       "2             0       874  2213.0  \n",
       "3             0      1983  3702.0  \n",
       "4             0      1077  1022.0  "
      ]
     },
     "execution_count": 48,
     "metadata": {},
     "output_type": "execute_result"
    }
   ],
   "source": [
    "df.head()"
   ]
  },
  {
   "cell_type": "markdown",
   "id": "6562044b",
   "metadata": {},
   "source": [
    "## Método del Codo"
   ]
  },
  {
   "cell_type": "code",
   "execution_count": 49,
   "id": "73db06ca",
   "metadata": {},
   "outputs": [
    {
     "data": {
      "text/plain": [
       "[883619250.4933957,\n",
       " 705746552.3151177,\n",
       " 611492224.9993931,\n",
       " 538057592.3966451,\n",
       " 489763517.19985163,\n",
       " 453147261.08051306,\n",
       " 417214644.3200723,\n",
       " 389863129.0427899,\n",
       " 367321435.2290818,\n",
       " 346535108.78856766,\n",
       " 332345456.5376239,\n",
       " 315499450.2554992,\n",
       " 298951171.6394323,\n",
       " 286181659.4512879,\n",
       " 275471337.394674,\n",
       " 266276161.90425053,\n",
       " 256666375.21715322,\n",
       " 246499442.2544085]"
      ]
     },
     "execution_count": 49,
     "metadata": {},
     "output_type": "execute_result"
    }
   ],
   "source": [
    "inercia = []\n",
    "for i in range (2,20):\n",
    "    km = KMeans(n_clusters=i, init='random',max_iter=300,n_init=10,tol=1e-04, random_state=0)\n",
    "    km.fit(df)\n",
    "    inercia.append(km.inertia_)\n",
    "inercia"
   ]
  },
  {
   "cell_type": "code",
   "execution_count": 50,
   "id": "1c73d66c",
   "metadata": {},
   "outputs": [
    {
     "data": {
      "text/plain": [
       "[<matplotlib.lines.Line2D at 0x18a8ed04160>]"
      ]
     },
     "execution_count": 50,
     "metadata": {},
     "output_type": "execute_result"
    },
    {
     "data": {
      "image/png": "[encoded data removed]",
      "text/plain": [
       "<Figure size 720x432 with 1 Axes>"
      ]
     },
     "metadata": {
      "needs_background": "light"
     },
     "output_type": "display_data"
    }
   ],
   "source": [
    "plt.figure(figsize=[10,6])\n",
    "plt.title('Método de codo')\n",
    "plt.xlabel('Num. Clusters')\n",
    "plt.ylabel('Inercia')\n",
    "plt.plot(list(range(2,20)),inercia, marker='o')"
   ]
  },
  {
   "cell_type": "markdown",
   "id": "da2b8df3",
   "metadata": {},
   "source": [
    "plt.figure(figsize=[10,6])\n",
    "plt.title('Método de codo')\n",
    "plt.xlabel('Num. Clusters')\n",
    "plt.ylabel('Inercia')\n",
    "plt.plot(list(range(1,20)),inercia, marker='o')"
   ]
  },
  {
   "cell_type": "code",
   "execution_count": 51,
   "id": "93c33c3a",
   "metadata": {},
   "outputs": [
    {
     "data": {
      "image/png": "[encoded data removed]",
      "text/plain": [
       "<Figure size 432x288 with 1 Axes>"
      ]
     },
     "metadata": {
      "needs_background": "light"
     },
     "output_type": "display_data"
    }
   ],
   "source": [
    "dendogram = sch.dendrogram(sch.linkage(df, method='ward'))\n",
    "plt.title('Dendogram')\n",
    "plt.xlabel('Conjuntos')\n",
    "plt.ylabel('Euclidean Distances')\n",
    "plt.show()"
   ]
  },
  {
   "cell_type": "code",
   "execution_count": 52,
   "id": "0dd0c6ce",
   "metadata": {},
   "outputs": [
    {
     "data": {
      "text/plain": [
       "array([3, 2, 1, 2, 0, 2, 1, 1, 1, 2, 3, 0, 0, 3, 0, 2, 0, 0, 2, 3, 3, 0,\n",
       "       2, 0, 0, 0, 0, 2, 0, 3, 0, 0, 2, 0, 0, 3, 0, 1, 0, 3, 0, 1, 3, 2,\n",
       "       2, 1, 1, 0, 3, 3, 1, 1, 3, 3, 3, 0, 3, 3, 0, 0, 0, 0, 1, 0, 2, 1,\n",
       "       2, 2, 2, 3, 0, 0, 0, 0, 1, 2, 0, 3, 0, 3, 1, 3, 0, 1, 0, 2, 3, 2,\n",
       "       0, 1, 3, 2, 0, 1, 1, 0, 1, 3, 0, 2, 0, 1, 1, 0, 1, 2, 3, 0, 2, 0,\n",
       "       0, 0, 1, 1, 2, 0, 2, 2, 0, 2, 0, 2, 0, 0, 2, 3, 0, 0, 0, 3, 0, 0,\n",
       "       0, 0, 2, 0, 3, 0, 0, 0, 0, 1, 3, 0, 0, 2, 1, 3, 0, 0, 0, 0, 1, 0,\n",
       "       0, 1, 1, 3, 3, 3, 1, 1, 1, 1, 0, 3, 0, 0, 0, 3, 1, 1, 0, 0, 1, 1,\n",
       "       1, 0, 1, 0, 3, 3, 0, 0, 1, 0, 0, 1, 1, 2, 3, 0, 0, 3, 0, 1, 2, 0,\n",
       "       2, 2, 0, 3, 2, 0, 3, 2, 2, 2, 2, 0, 2, 0, 3, 0, 0, 3, 1, 2, 2, 1,\n",
       "       0, 1, 1, 0, 0, 0, 0, 2, 0, 1, 1, 1, 0, 0, 1, 0, 1, 1, 0, 1, 3, 1,\n",
       "       0, 1, 2, 2, 0, 2, 3, 0, 3, 0, 0, 2, 2, 2, 2, 0, 3, 3, 2, 0, 0, 0,\n",
       "       2, 0, 1, 1, 2, 2, 1, 3, 3, 0, 0, 1, 2, 0, 0, 3, 1, 0, 2, 1, 3, 0,\n",
       "       2, 3, 0, 0, 1, 3, 0, 0, 1, 1, 2, 0, 3, 3, 0, 3, 0, 1, 0, 1, 1, 2,\n",
       "       0, 3, 0, 2, 0, 3, 1, 0, 0, 0, 0, 0, 2, 0, 0, 0, 2, 0, 1, 2, 1, 1,\n",
       "       0, 3, 2, 3, 2, 2, 2, 3, 2, 1, 0, 2, 2, 0, 1, 0, 2, 0, 0, 2, 0, 2,\n",
       "       1, 3, 2, 3, 0, 3, 0, 2, 0, 3, 0, 1, 3, 3, 3, 2, 2, 1, 1, 2, 3, 1,\n",
       "       0, 0, 3, 0, 1, 3, 0, 1, 0, 2, 0, 1, 0, 1, 0, 2, 0, 0, 0, 3, 0, 2,\n",
       "       3, 0, 0, 0, 0, 0, 3, 0, 3, 2, 0, 0, 2, 2, 1, 2, 1, 0, 1, 3, 1, 1,\n",
       "       3, 0, 2, 3, 0, 2, 1, 3, 0, 1, 1, 2, 1, 1, 1, 0, 1, 2, 0, 0, 0, 3,\n",
       "       0, 0, 0, 0, 3, 0, 0, 1, 1, 3, 0, 0, 1, 2, 2, 3, 1, 0, 0, 0, 0, 0,\n",
       "       0, 2, 2, 0, 2, 1, 1, 1, 1, 0, 2, 1, 0, 2, 2, 0, 1, 1, 0, 1, 1, 3,\n",
       "       3, 0, 3, 1, 0, 1, 2, 2, 3, 0, 2, 0, 0, 0, 0, 1, 1, 3, 1, 2, 2, 2,\n",
       "       1, 1, 2, 0, 3, 1, 0, 0, 3, 0, 1, 2, 2, 3, 0, 1, 0, 3, 3, 2, 2, 3,\n",
       "       0, 2, 2, 0, 3, 3, 0, 0, 2, 0, 0, 0, 3, 1, 1, 2, 3, 3, 0, 2, 3, 1,\n",
       "       1, 1, 1, 1, 3, 3, 2, 0, 0, 3, 1, 0, 0, 2, 1, 0, 0, 0, 2, 0, 0, 1,\n",
       "       3, 3, 0, 0, 1, 0, 0, 3, 1, 3, 2, 2, 2, 3, 2, 0, 2, 2, 2, 3, 0, 0,\n",
       "       2, 0, 2, 0, 3, 3, 0, 0, 3, 0, 0, 3, 1, 0, 2, 0, 2, 1, 0, 0, 2, 0,\n",
       "       2, 0, 0, 0, 0, 0, 1, 0, 0, 0, 0, 3, 3, 2, 3, 3, 3, 2, 1, 1, 0, 0,\n",
       "       2, 2, 3, 2, 2, 2, 0, 3, 2, 1, 3, 2, 0, 1, 2, 0, 0, 3, 2, 0, 2, 1,\n",
       "       3, 1, 3, 2, 3, 3, 1, 0, 0, 0, 0, 1, 2, 3, 1, 1, 0, 1, 2, 1, 3, 3,\n",
       "       1, 0, 2, 2, 0, 1, 2, 0, 0, 3, 2, 0, 1, 0, 2, 1, 2, 0, 1, 3, 3, 1,\n",
       "       0, 2, 1, 2, 3, 3, 2, 1, 3, 0, 0, 3, 3, 0, 0, 1, 1, 2, 3, 0, 2, 0,\n",
       "       2, 0, 0, 3, 0, 0, 2, 1, 0, 2, 0, 0, 0, 0, 0, 3, 3, 0, 3, 3, 2, 0,\n",
       "       0, 1, 0, 2, 0, 0, 0, 0, 2, 0, 0, 2, 1, 0, 1, 0, 0, 0, 1, 2, 2, 0,\n",
       "       0, 2, 2, 3, 0, 0, 0, 1, 2, 1, 3, 3, 0, 2, 0, 0, 3, 0, 2, 3, 2, 1,\n",
       "       0, 0, 2, 0, 3, 2, 0, 3, 0, 2, 1, 0, 2, 3, 1, 0, 1, 0, 0, 1, 0, 2,\n",
       "       0, 1, 3, 2, 2, 0, 2, 0, 1, 2, 0, 2, 0, 1, 3, 2, 0, 0, 1, 0, 2, 3,\n",
       "       0, 0, 3, 1, 0, 0, 0, 0, 2, 0, 1, 3, 3, 2, 3, 1, 0, 3, 3, 0, 0, 1,\n",
       "       0, 1, 0, 0, 1, 3, 0, 2, 2, 3, 0, 1, 1, 2, 1, 2, 3, 0, 1, 2, 1, 3,\n",
       "       0, 1, 2, 0, 0, 2, 1, 0, 1, 3, 3, 3, 2, 3, 2, 0, 0, 3, 2, 0, 1, 2,\n",
       "       3, 0, 1, 3, 2, 0, 2, 0, 1, 3, 0, 0, 3, 0, 0, 0, 3, 3, 2, 0, 2, 2,\n",
       "       3, 0, 0, 2, 0, 2, 2, 2, 1, 0, 1, 0, 0, 1, 3, 3, 3, 1, 3, 3, 0, 3,\n",
       "       0, 2, 3, 0, 3, 0, 3, 0, 0, 3, 3, 3, 0, 2, 3, 1, 2, 0, 0, 0, 1, 0,\n",
       "       0, 2, 1, 0, 1, 2, 1, 0, 1, 0, 1, 0, 1, 2, 1, 2, 2, 1, 3, 2, 0, 1,\n",
       "       3, 3, 0, 3, 1, 2, 3, 2, 0, 3], dtype=int64)"
      ]
     },
     "execution_count": 52,
     "metadata": {},
     "output_type": "execute_result"
    }
   ],
   "source": [
    "hc = AgglomerativeClustering(n_clusters=4, affinity='euclidean',linkage='ward')\n",
    "y_Agc = hc.fit_predict(df)\n",
    "y_Agc"
   ]
  },
  {
   "cell_type": "code",
   "execution_count": 53,
   "id": "37ab08c2",
   "metadata": {},
   "outputs": [
    {
     "data": {
      "text/html": [
       "<div>\n",
       "<style scoped>\n",
       "    .dataframe tbody tr th:only-of-type {\n",
       "        vertical-align: middle;\n",
       "    }\n",
       "\n",
       "    .dataframe tbody tr th {\n",
       "        vertical-align: top;\n",
       "    }\n",
       "\n",
       "    .dataframe thead th {\n",
       "        text-align: right;\n",
       "    }\n",
       "</style>\n",
       "<table border=\"1\" class=\"dataframe\">\n",
       "  <thead>\n",
       "    <tr style=\"text-align: right;\">\n",
       "      <th></th>\n",
       "      <th>battery_power</th>\n",
       "      <th>clock_speed</th>\n",
       "      <th>int_memory</th>\n",
       "      <th>n_cores</th>\n",
       "      <th>wifi</th>\n",
       "      <th>px_height</th>\n",
       "      <th>touch_screen</th>\n",
       "      <th>px_width</th>\n",
       "      <th>ram</th>\n",
       "      <th>tipo</th>\n",
       "    </tr>\n",
       "  </thead>\n",
       "  <tbody>\n",
       "    <tr>\n",
       "      <th>0</th>\n",
       "      <td>1757</td>\n",
       "      <td>0.5</td>\n",
       "      <td>49.0</td>\n",
       "      <td>6.0</td>\n",
       "      <td>0</td>\n",
       "      <td>265</td>\n",
       "      <td>0</td>\n",
       "      <td>713</td>\n",
       "      <td>2056.0</td>\n",
       "      <td>3</td>\n",
       "    </tr>\n",
       "    <tr>\n",
       "      <th>1</th>\n",
       "      <td>1866</td>\n",
       "      <td>1.4</td>\n",
       "      <td>30.0</td>\n",
       "      <td>3.0</td>\n",
       "      <td>0</td>\n",
       "      <td>108</td>\n",
       "      <td>0</td>\n",
       "      <td>1781</td>\n",
       "      <td>3834.0</td>\n",
       "      <td>2</td>\n",
       "    </tr>\n",
       "    <tr>\n",
       "      <th>2</th>\n",
       "      <td>617</td>\n",
       "      <td>2.3</td>\n",
       "      <td>32.0</td>\n",
       "      <td>7.0</td>\n",
       "      <td>0</td>\n",
       "      <td>768</td>\n",
       "      <td>0</td>\n",
       "      <td>874</td>\n",
       "      <td>2213.0</td>\n",
       "      <td>1</td>\n",
       "    </tr>\n",
       "    <tr>\n",
       "      <th>3</th>\n",
       "      <td>1356</td>\n",
       "      <td>2.8</td>\n",
       "      <td>29.0</td>\n",
       "      <td>6.0</td>\n",
       "      <td>0</td>\n",
       "      <td>1612</td>\n",
       "      <td>0</td>\n",
       "      <td>1983</td>\n",
       "      <td>3702.0</td>\n",
       "      <td>2</td>\n",
       "    </tr>\n",
       "    <tr>\n",
       "      <th>4</th>\n",
       "      <td>1049</td>\n",
       "      <td>2.2</td>\n",
       "      <td>63.0</td>\n",
       "      <td>5.0</td>\n",
       "      <td>0</td>\n",
       "      <td>199</td>\n",
       "      <td>0</td>\n",
       "      <td>1077</td>\n",
       "      <td>1022.0</td>\n",
       "      <td>0</td>\n",
       "    </tr>\n",
       "  </tbody>\n",
       "</table>\n",
       "</div>"
      ],
      "text/plain": [
       "   battery_power  clock_speed  int_memory  n_cores  wifi  px_height  \\\n",
       "0           1757          0.5        49.0      6.0     0        265   \n",
       "1           1866          1.4        30.0      3.0     0        108   \n",
       "2            617          2.3        32.0      7.0     0        768   \n",
       "3           1356          2.8        29.0      6.0     0       1612   \n",
       "4           1049          2.2        63.0      5.0     0        199   \n",
       "\n",
       "   touch_screen  px_width     ram  tipo  \n",
       "0             0       713  2056.0     3  \n",
       "1             0      1781  3834.0     2  \n",
       "2             0       874  2213.0     1  \n",
       "3             0      1983  3702.0     2  \n",
       "4             0      1077  1022.0     0  "
      ]
     },
     "execution_count": 53,
     "metadata": {},
     "output_type": "execute_result"
    }
   ],
   "source": [
    "df['tipo'] = y_Agc\n",
    "df.head()"
   ]
  },
  {
   "cell_type": "code",
   "execution_count": 54,
   "id": "fd456c94",
   "metadata": {},
   "outputs": [
    {
     "data": {
      "text/html": [
       "<div>\n",
       "<style scoped>\n",
       "    .dataframe tbody tr th:only-of-type {\n",
       "        vertical-align: middle;\n",
       "    }\n",
       "\n",
       "    .dataframe tbody tr th {\n",
       "        vertical-align: top;\n",
       "    }\n",
       "\n",
       "    .dataframe thead th {\n",
       "        text-align: right;\n",
       "    }\n",
       "</style>\n",
       "<table border=\"1\" class=\"dataframe\">\n",
       "  <thead>\n",
       "    <tr style=\"text-align: right;\">\n",
       "      <th></th>\n",
       "      <th>battery_power</th>\n",
       "      <th>clock_speed</th>\n",
       "      <th>int_memory</th>\n",
       "      <th>n_cores</th>\n",
       "      <th>wifi</th>\n",
       "      <th>px_height</th>\n",
       "      <th>touch_screen</th>\n",
       "      <th>px_width</th>\n",
       "      <th>ram</th>\n",
       "    </tr>\n",
       "  </thead>\n",
       "  <tbody>\n",
       "    <tr>\n",
       "      <th>0</th>\n",
       "      <td>1757</td>\n",
       "      <td>0.5</td>\n",
       "      <td>49.0</td>\n",
       "      <td>6.000000</td>\n",
       "      <td>0</td>\n",
       "      <td>265</td>\n",
       "      <td>0</td>\n",
       "      <td>713</td>\n",
       "      <td>2056.000000</td>\n",
       "    </tr>\n",
       "    <tr>\n",
       "      <th>1</th>\n",
       "      <td>1866</td>\n",
       "      <td>1.4</td>\n",
       "      <td>30.0</td>\n",
       "      <td>3.000000</td>\n",
       "      <td>0</td>\n",
       "      <td>108</td>\n",
       "      <td>0</td>\n",
       "      <td>1781</td>\n",
       "      <td>3834.000000</td>\n",
       "    </tr>\n",
       "    <tr>\n",
       "      <th>2</th>\n",
       "      <td>617</td>\n",
       "      <td>2.3</td>\n",
       "      <td>32.0</td>\n",
       "      <td>7.000000</td>\n",
       "      <td>0</td>\n",
       "      <td>768</td>\n",
       "      <td>0</td>\n",
       "      <td>874</td>\n",
       "      <td>2213.000000</td>\n",
       "    </tr>\n",
       "    <tr>\n",
       "      <th>3</th>\n",
       "      <td>1356</td>\n",
       "      <td>2.8</td>\n",
       "      <td>29.0</td>\n",
       "      <td>6.000000</td>\n",
       "      <td>0</td>\n",
       "      <td>1612</td>\n",
       "      <td>0</td>\n",
       "      <td>1983</td>\n",
       "      <td>3702.000000</td>\n",
       "    </tr>\n",
       "    <tr>\n",
       "      <th>4</th>\n",
       "      <td>1049</td>\n",
       "      <td>2.2</td>\n",
       "      <td>63.0</td>\n",
       "      <td>5.000000</td>\n",
       "      <td>0</td>\n",
       "      <td>199</td>\n",
       "      <td>0</td>\n",
       "      <td>1077</td>\n",
       "      <td>1022.000000</td>\n",
       "    </tr>\n",
       "    <tr>\n",
       "      <th>...</th>\n",
       "      <td>...</td>\n",
       "      <td>...</td>\n",
       "      <td>...</td>\n",
       "      <td>...</td>\n",
       "      <td>...</td>\n",
       "      <td>...</td>\n",
       "      <td>...</td>\n",
       "      <td>...</td>\n",
       "      <td>...</td>\n",
       "    </tr>\n",
       "    <tr>\n",
       "      <th>995</th>\n",
       "      <td>595</td>\n",
       "      <td>0.9</td>\n",
       "      <td>23.0</td>\n",
       "      <td>4.849673</td>\n",
       "      <td>0</td>\n",
       "      <td>441</td>\n",
       "      <td>1</td>\n",
       "      <td>810</td>\n",
       "      <td>3752.000000</td>\n",
       "    </tr>\n",
       "    <tr>\n",
       "      <th>996</th>\n",
       "      <td>1310</td>\n",
       "      <td>2.2</td>\n",
       "      <td>51.0</td>\n",
       "      <td>4.849673</td>\n",
       "      <td>0</td>\n",
       "      <td>178</td>\n",
       "      <td>1</td>\n",
       "      <td>1919</td>\n",
       "      <td>2085.160282</td>\n",
       "    </tr>\n",
       "    <tr>\n",
       "      <th>997</th>\n",
       "      <td>1725</td>\n",
       "      <td>1.6</td>\n",
       "      <td>6.0</td>\n",
       "      <td>2.000000</td>\n",
       "      <td>0</td>\n",
       "      <td>609</td>\n",
       "      <td>1</td>\n",
       "      <td>1307</td>\n",
       "      <td>3429.000000</td>\n",
       "    </tr>\n",
       "    <tr>\n",
       "      <th>998</th>\n",
       "      <td>1253</td>\n",
       "      <td>0.5</td>\n",
       "      <td>5.0</td>\n",
       "      <td>2.000000</td>\n",
       "      <td>0</td>\n",
       "      <td>685</td>\n",
       "      <td>1</td>\n",
       "      <td>714</td>\n",
       "      <td>1878.000000</td>\n",
       "    </tr>\n",
       "    <tr>\n",
       "      <th>999</th>\n",
       "      <td>1654</td>\n",
       "      <td>1.5</td>\n",
       "      <td>43.0</td>\n",
       "      <td>2.000000</td>\n",
       "      <td>0</td>\n",
       "      <td>546</td>\n",
       "      <td>1</td>\n",
       "      <td>629</td>\n",
       "      <td>3112.000000</td>\n",
       "    </tr>\n",
       "  </tbody>\n",
       "</table>\n",
       "<p>1000 rows × 9 columns</p>\n",
       "</div>"
      ],
      "text/plain": [
       "     battery_power  clock_speed  int_memory   n_cores  wifi  px_height  \\\n",
       "0             1757          0.5        49.0  6.000000     0        265   \n",
       "1             1866          1.4        30.0  3.000000     0        108   \n",
       "2              617          2.3        32.0  7.000000     0        768   \n",
       "3             1356          2.8        29.0  6.000000     0       1612   \n",
       "4             1049          2.2        63.0  5.000000     0        199   \n",
       "..             ...          ...         ...       ...   ...        ...   \n",
       "995            595          0.9        23.0  4.849673     0        441   \n",
       "996           1310          2.2        51.0  4.849673     0        178   \n",
       "997           1725          1.6         6.0  2.000000     0        609   \n",
       "998           1253          0.5         5.0  2.000000     0        685   \n",
       "999           1654          1.5        43.0  2.000000     0        546   \n",
       "\n",
       "     touch_screen  px_width          ram  \n",
       "0               0       713  2056.000000  \n",
       "1               0      1781  3834.000000  \n",
       "2               0       874  2213.000000  \n",
       "3               0      1983  3702.000000  \n",
       "4               0      1077  1022.000000  \n",
       "..            ...       ...          ...  \n",
       "995             1       810  3752.000000  \n",
       "996             1      1919  2085.160282  \n",
       "997             1      1307  3429.000000  \n",
       "998             1       714  1878.000000  \n",
       "999             1       629  3112.000000  \n",
       "\n",
       "[1000 rows x 9 columns]"
      ]
     },
     "execution_count": 54,
     "metadata": {},
     "output_type": "execute_result"
    }
   ],
   "source": [
    "x = df.iloc[:,:-1]\n",
    "x"
   ]
  },
  {
   "cell_type": "code",
   "execution_count": 55,
   "id": "1de98531",
   "metadata": {},
   "outputs": [
    {
     "data": {
      "text/plain": [
       "0      3\n",
       "1      2\n",
       "2      1\n",
       "3      2\n",
       "4      0\n",
       "      ..\n",
       "995    2\n",
       "996    3\n",
       "997    2\n",
       "998    0\n",
       "999    3\n",
       "Name: tipo, Length: 1000, dtype: int64"
      ]
     },
     "execution_count": 55,
     "metadata": {},
     "output_type": "execute_result"
    }
   ],
   "source": [
    "y = df.iloc[:,-1]\n",
    "y"
   ]
  },
  {
   "cell_type": "code",
   "execution_count": 56,
   "id": "d850c41b",
   "metadata": {},
   "outputs": [
    {
     "data": {
      "text/plain": [
       "(800, 9)"
      ]
     },
     "execution_count": 56,
     "metadata": {},
     "output_type": "execute_result"
    }
   ],
   "source": [
    "from sklearn.model_selection import train_test_split as tts\n",
    "x_train, x_test, y_train, y_test = tts(x,y, test_size=0.2)\n",
    "x_train.shape"
   ]
  },
  {
   "cell_type": "code",
   "execution_count": 57,
   "id": "99171687",
   "metadata": {},
   "outputs": [
    {
     "name": "stdout",
     "output_type": "stream",
     "text": [
      "0.855\n"
     ]
    }
   ],
   "source": [
    "from sklearn import tree\n",
    "import matplotlib.pyplot as plt\n",
    "arbol_decision = tree.DecisionTreeClassifier(criterion=\"gini\",max_depth=3)\n",
    "\n",
    "arbol = arbol_decision.fit(x_train, y_train)\n",
    "accuracy = arbol_decision.score(x_test,y_test)\n",
    "print(accuracy)"
   ]
  },
  {
   "cell_type": "code",
   "execution_count": 58,
   "id": "62b6ff90",
   "metadata": {},
   "outputs": [
    {
     "data": {
      "text/plain": [
       "array([0.845, 0.845, 0.9  , 0.84 , 0.89 ])"
      ]
     },
     "execution_count": 58,
     "metadata": {},
     "output_type": "execute_result"
    }
   ],
   "source": [
    "from sklearn.model_selection import cross_val_score\n",
    "score = cross_val_score(arbol, x, y, scoring = \"accuracy\", cv=5, n_jobs=-1)\n",
    "score"
   ]
  },
  {
   "cell_type": "code",
   "execution_count": 59,
   "id": "becc1012",
   "metadata": {},
   "outputs": [
    {
     "data": {
      "text/plain": [
       "0.8639999999999999"
      ]
     },
     "execution_count": 59,
     "metadata": {},
     "output_type": "execute_result"
    }
   ],
   "source": [
    "score.mean()"
   ]
  },
  {
   "cell_type": "code",
   "execution_count": 60,
   "id": "bacac84c",
   "metadata": {},
   "outputs": [
    {
     "data": {
      "image/png": "[encoded data removed]",
      "text/plain": [
       "<Figure size 864x432 with 1 Axes>"
      ]
     },
     "metadata": {
      "needs_background": "light"
     },
     "output_type": "display_data"
    }
   ],
   "source": [
    "plt.figure(figsize=(12,6))\n",
    "tree.plot_tree(arbol, feature_names=[\"battery_power\",\"clock_speed\",\"n_cores\",\"int_memory\",\"wifi\",\"px_height\",\"touch_screen\",\"px_width\",\"ram\"])\n",
    "plt.show()"
   ]
  },
  {
   "cell_type": "code",
   "execution_count": 61,
   "id": "9bfbaae0",
   "metadata": {},
   "outputs": [
    {
     "name": "stdout",
     "output_type": "stream",
     "text": [
      "|--- ram <= 1569.50\n",
      "|   |--- px_height <= 1437.50\n",
      "|   |   |--- ram <= 1427.00\n",
      "|   |   |   |--- class: 0\n",
      "|   |   |--- ram >  1427.00\n",
      "|   |   |   |--- class: 0\n",
      "|   |--- px_height >  1437.50\n",
      "|   |   |--- ram <= 874.50\n",
      "|   |   |   |--- class: 0\n",
      "|   |   |--- ram >  874.50\n",
      "|   |   |   |--- class: 1\n",
      "|--- ram >  1569.50\n",
      "|   |--- ram <= 3209.00\n",
      "|   |   |--- px_height <= 743.50\n",
      "|   |   |   |--- class: 3\n",
      "|   |   |--- px_height >  743.50\n",
      "|   |   |   |--- class: 1\n",
      "|   |--- ram >  3209.00\n",
      "|   |   |--- ram <= 3287.00\n",
      "|   |   |   |--- class: 2\n",
      "|   |   |--- ram >  3287.00\n",
      "|   |   |   |--- class: 2\n",
      "\n"
     ]
    }
   ],
   "source": [
    "print(tree.export_text(arbol, feature_names=[\"battery_power\",\"clock_speed\",\"n_cores\",\"int_memory\",\"wifi\",\"px_height\",\"touch_screen\",\"px_width\",\"ram\"]))"
   ]
  },
  {
   "cell_type": "code",
   "execution_count": null,
   "id": "f3235536",
   "metadata": {},
   "outputs": [],
   "source": []
  }
 ],
 "metadata": {
  "kernelspec": {
   "display_name": "Python 3 (ipykernel)",
   "language": "python",
   "name": "python3"
  },
  "language_info": {
   "codemirror_mode": {
    "name": "ipython",
    "version": 3
   },
   "file_extension": ".py",
   "mimetype": "text/x-python",
   "name": "python",
   "nbconvert_exporter": "python",
   "pygments_lexer": "ipython3",
   "version": "3.10.4"
  }
 },
 "nbformat": 4,
 "nbformat_minor": 5
}
