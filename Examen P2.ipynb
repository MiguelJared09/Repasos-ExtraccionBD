{
 "cells": [
  {
   "cell_type": "code",
   "execution_count": 1,
   "id": "d1f034de",
   "metadata": {},
   "outputs": [],
   "source": [
    "# Realizando las importacioones necesarias\n",
    "#Numpy, pandas, sklearn\n",
    "import pandas as pd\n",
    "import sklearn\n",
    "\n",
    "#Modelo de selección tts\n",
    "from sklearn.model_selection import train_test_split as tts\n",
    "\n",
    "#k-fold-cross-validation\n",
    "from sklearn.model_selection import cross_val_score\n",
    "\n",
    "#Label Encoder\n",
    "from sklearn.preprocessing import LabelEncoder\n",
    "\n",
    "#MLPRegressor\n",
    "from sklearn.neural_network import MLPRegressor\n",
    "\n",
    "#Standard Scaler\n",
    "from sklearn.preprocessing import StandardScaler"
   ]
  },
  {
   "cell_type": "code",
   "execution_count": 2,
   "id": "b9e74f28",
   "metadata": {},
   "outputs": [],
   "source": [
    "#Cargando los datos\n",
    "dfR=pd.read_csv('examen2.csv')"
   ]
  },
  {
   "cell_type": "code",
   "execution_count": 4,
   "id": "772b7763",
   "metadata": {},
   "outputs": [
    {
     "name": "stdout",
     "output_type": "stream",
     "text": [
      "<class 'pandas.core.frame.DataFrame'>\n",
      "RangeIndex: 700 entries, 0 to 699\n",
      "Data columns (total 11 columns):\n",
      " #   Column        Non-Null Count  Dtype  \n",
      "---  ------        --------------  -----  \n",
      " 0   Id            700 non-null    int64  \n",
      " 1   LotArea       700 non-null    int64  \n",
      " 2   YearBuilt     700 non-null    int64  \n",
      " 3   BedroomAbvGr  700 non-null    int64  \n",
      " 4   LotShape      700 non-null    object \n",
      " 5   CentralAir    700 non-null    object \n",
      " 6   LotFrontage   582 non-null    float64\n",
      " 7   MasVnrArea    693 non-null    float64\n",
      " 8   GarageYrBlt   658 non-null    float64\n",
      " 9   GarageType    658 non-null    object \n",
      " 10  SalePrice     700 non-null    float64\n",
      "dtypes: float64(4), int64(4), object(3)\n",
      "memory usage: 60.3+ KB\n"
     ]
    }
   ],
   "source": [
    "dfR.info()"
   ]
  },
  {
   "cell_type": "markdown",
   "id": "d3423ad8",
   "metadata": {},
   "source": [
    "# Eliminación de la Columna ID"
   ]
  },
  {
   "cell_type": "code",
   "execution_count": 5,
   "id": "8158c2a6",
   "metadata": {},
   "outputs": [],
   "source": [
    "dfR.drop(['Id'],axis=1, inplace=True)"
   ]
  },
  {
   "cell_type": "code",
   "execution_count": 6,
   "id": "77a53930",
   "metadata": {
    "scrolled": true
   },
   "outputs": [
    {
     "name": "stdout",
     "output_type": "stream",
     "text": [
      "<class 'pandas.core.frame.DataFrame'>\n",
      "RangeIndex: 700 entries, 0 to 699\n",
      "Data columns (total 10 columns):\n",
      " #   Column        Non-Null Count  Dtype  \n",
      "---  ------        --------------  -----  \n",
      " 0   LotArea       700 non-null    int64  \n",
      " 1   YearBuilt     700 non-null    int64  \n",
      " 2   BedroomAbvGr  700 non-null    int64  \n",
      " 3   LotShape      700 non-null    object \n",
      " 4   CentralAir    700 non-null    object \n",
      " 5   LotFrontage   582 non-null    float64\n",
      " 6   MasVnrArea    693 non-null    float64\n",
      " 7   GarageYrBlt   658 non-null    float64\n",
      " 8   GarageType    658 non-null    object \n",
      " 9   SalePrice     700 non-null    float64\n",
      "dtypes: float64(4), int64(3), object(3)\n",
      "memory usage: 54.8+ KB\n"
     ]
    }
   ],
   "source": [
    "dfR.info()"
   ]
  },
  {
   "cell_type": "markdown",
   "id": "64684dfa",
   "metadata": {},
   "source": [
    "# Atributos con valores nulos"
   ]
  },
  {
   "cell_type": "code",
   "execution_count": 7,
   "id": "ab3d0c8f",
   "metadata": {},
   "outputs": [
    {
     "data": {
      "text/plain": [
       "LotArea           0\n",
       "YearBuilt         0\n",
       "BedroomAbvGr      0\n",
       "LotShape          0\n",
       "CentralAir        0\n",
       "LotFrontage     118\n",
       "MasVnrArea        7\n",
       "GarageYrBlt      42\n",
       "GarageType       42\n",
       "SalePrice         0\n",
       "dtype: int64"
      ]
     },
     "execution_count": 7,
     "metadata": {},
     "output_type": "execute_result"
    }
   ],
   "source": [
    "dfR.isnull().sum()"
   ]
  },
  {
   "cell_type": "markdown",
   "id": "41befe3c",
   "metadata": {},
   "source": [
    "# Tratamiento de Valores Nulos"
   ]
  },
  {
   "cell_type": "markdown",
   "id": "3ac2f82f",
   "metadata": {},
   "source": [
    "### Atributos Numéricos"
   ]
  },
  {
   "cell_type": "code",
   "execution_count": 8,
   "id": "ac017952",
   "metadata": {},
   "outputs": [],
   "source": [
    "dfR['LotFrontage'] = dfR['LotFrontage'].fillna(dfR['LotFrontage'].mean())"
   ]
  },
  {
   "cell_type": "code",
   "execution_count": 9,
   "id": "ee32ec5a",
   "metadata": {},
   "outputs": [],
   "source": [
    "dfR['MasVnrArea'] = dfR['MasVnrArea'].fillna(dfR['MasVnrArea'].mean())"
   ]
  },
  {
   "cell_type": "markdown",
   "id": "b044a4e5",
   "metadata": {},
   "source": [
    "dfR['GarageYrBlt'] = dfR['GarageYrBlt'].fillna(dfR['GarageYrBlt'].mode()[0])"
   ]
  },
  {
   "cell_type": "code",
   "execution_count": 10,
   "id": "747b8d77",
   "metadata": {},
   "outputs": [],
   "source": [
    "dfR['GarageYrBlt'] = dfR['GarageYrBlt'].fillna(dfR['GarageYrBlt'].mean())"
   ]
  },
  {
   "cell_type": "markdown",
   "id": "0167ba11",
   "metadata": {},
   "source": [
    "### Atributos categóricos"
   ]
  },
  {
   "cell_type": "code",
   "execution_count": 11,
   "id": "259f7ff7",
   "metadata": {},
   "outputs": [],
   "source": [
    "dfR['GarageType'] = dfR['GarageType'].fillna(dfR['GarageType'].mode()[0])"
   ]
  },
  {
   "cell_type": "markdown",
   "id": "4d68a388",
   "metadata": {},
   "source": [
    "## Evidencia de tratamiento de nulos"
   ]
  },
  {
   "cell_type": "code",
   "execution_count": 12,
   "id": "9365816b",
   "metadata": {},
   "outputs": [
    {
     "data": {
      "text/plain": [
       "LotArea         0\n",
       "YearBuilt       0\n",
       "BedroomAbvGr    0\n",
       "LotShape        0\n",
       "CentralAir      0\n",
       "LotFrontage     0\n",
       "MasVnrArea      0\n",
       "GarageYrBlt     0\n",
       "GarageType      0\n",
       "SalePrice       0\n",
       "dtype: int64"
      ]
     },
     "execution_count": 12,
     "metadata": {},
     "output_type": "execute_result"
    }
   ],
   "source": [
    "dfR.isnull().sum()"
   ]
  },
  {
   "cell_type": "markdown",
   "id": "491e2ce4",
   "metadata": {},
   "source": [
    "## Variables de tipo Texto a Númer"
   ]
  },
  {
   "cell_type": "code",
   "execution_count": 13,
   "id": "558f40e7",
   "metadata": {},
   "outputs": [],
   "source": [
    "le = LabelEncoder()\n",
    "dfR[\"LotShape\"] = le.fit_transform(dfR[\"LotShape\"])\n",
    "dfR[\"CentralAir\"] = le.fit_transform(dfR[\"CentralAir\"])\n",
    "dfR[\"GarageType\"] = le.fit_transform(dfR[\"GarageType\"])"
   ]
  },
  {
   "cell_type": "code",
   "execution_count": 14,
   "id": "73b2089d",
   "metadata": {},
   "outputs": [
    {
     "data": {
      "text/html": [
       "<div>\n",
       "<style scoped>\n",
       "    .dataframe tbody tr th:only-of-type {\n",
       "        vertical-align: middle;\n",
       "    }\n",
       "\n",
       "    .dataframe tbody tr th {\n",
       "        vertical-align: top;\n",
       "    }\n",
       "\n",
       "    .dataframe thead th {\n",
       "        text-align: right;\n",
       "    }\n",
       "</style>\n",
       "<table border=\"1\" class=\"dataframe\">\n",
       "  <thead>\n",
       "    <tr style=\"text-align: right;\">\n",
       "      <th></th>\n",
       "      <th>LotArea</th>\n",
       "      <th>YearBuilt</th>\n",
       "      <th>BedroomAbvGr</th>\n",
       "      <th>LotShape</th>\n",
       "      <th>CentralAir</th>\n",
       "      <th>LotFrontage</th>\n",
       "      <th>MasVnrArea</th>\n",
       "      <th>GarageYrBlt</th>\n",
       "      <th>GarageType</th>\n",
       "    </tr>\n",
       "  </thead>\n",
       "  <tbody>\n",
       "    <tr>\n",
       "      <th>0</th>\n",
       "      <td>8450</td>\n",
       "      <td>2003</td>\n",
       "      <td>3</td>\n",
       "      <td>3</td>\n",
       "      <td>1</td>\n",
       "      <td>65.0</td>\n",
       "      <td>196.0</td>\n",
       "      <td>2003.0</td>\n",
       "      <td>1</td>\n",
       "    </tr>\n",
       "    <tr>\n",
       "      <th>1</th>\n",
       "      <td>9600</td>\n",
       "      <td>1976</td>\n",
       "      <td>3</td>\n",
       "      <td>3</td>\n",
       "      <td>1</td>\n",
       "      <td>80.0</td>\n",
       "      <td>0.0</td>\n",
       "      <td>1976.0</td>\n",
       "      <td>1</td>\n",
       "    </tr>\n",
       "    <tr>\n",
       "      <th>2</th>\n",
       "      <td>11250</td>\n",
       "      <td>2001</td>\n",
       "      <td>3</td>\n",
       "      <td>0</td>\n",
       "      <td>1</td>\n",
       "      <td>68.0</td>\n",
       "      <td>162.0</td>\n",
       "      <td>2001.0</td>\n",
       "      <td>1</td>\n",
       "    </tr>\n",
       "    <tr>\n",
       "      <th>3</th>\n",
       "      <td>9550</td>\n",
       "      <td>1915</td>\n",
       "      <td>3</td>\n",
       "      <td>0</td>\n",
       "      <td>1</td>\n",
       "      <td>60.0</td>\n",
       "      <td>0.0</td>\n",
       "      <td>1998.0</td>\n",
       "      <td>5</td>\n",
       "    </tr>\n",
       "    <tr>\n",
       "      <th>4</th>\n",
       "      <td>14260</td>\n",
       "      <td>2000</td>\n",
       "      <td>4</td>\n",
       "      <td>0</td>\n",
       "      <td>1</td>\n",
       "      <td>84.0</td>\n",
       "      <td>350.0</td>\n",
       "      <td>2000.0</td>\n",
       "      <td>1</td>\n",
       "    </tr>\n",
       "  </tbody>\n",
       "</table>\n",
       "</div>"
      ],
      "text/plain": [
       "   LotArea  YearBuilt  BedroomAbvGr  LotShape  CentralAir  LotFrontage  \\\n",
       "0     8450       2003             3         3           1         65.0   \n",
       "1     9600       1976             3         3           1         80.0   \n",
       "2    11250       2001             3         0           1         68.0   \n",
       "3     9550       1915             3         0           1         60.0   \n",
       "4    14260       2000             4         0           1         84.0   \n",
       "\n",
       "   MasVnrArea  GarageYrBlt  GarageType  \n",
       "0       196.0       2003.0           1  \n",
       "1         0.0       1976.0           1  \n",
       "2       162.0       2001.0           1  \n",
       "3         0.0       1998.0           5  \n",
       "4       350.0       2000.0           1  "
      ]
     },
     "execution_count": 14,
     "metadata": {},
     "output_type": "execute_result"
    }
   ],
   "source": [
    "xR = dfR.iloc[:, :-1]\n",
    "xR.head(5)"
   ]
  },
  {
   "cell_type": "code",
   "execution_count": 15,
   "id": "22292126",
   "metadata": {},
   "outputs": [
    {
     "data": {
      "text/plain": [
       "0    199837.242\n",
       "1    173959.038\n",
       "2    214214.022\n",
       "3    134183.280\n",
       "4    239613.000\n",
       "Name: SalePrice, dtype: float64"
      ]
     },
     "execution_count": 15,
     "metadata": {},
     "output_type": "execute_result"
    }
   ],
   "source": [
    "yR = dfR.iloc[:,-1]\n",
    "yR.head()"
   ]
  },
  {
   "cell_type": "code",
   "execution_count": 16,
   "id": "2b8c1cb5",
   "metadata": {
    "scrolled": true
   },
   "outputs": [
    {
     "data": {
      "text/html": [
       "<div>\n",
       "<style scoped>\n",
       "    .dataframe tbody tr th:only-of-type {\n",
       "        vertical-align: middle;\n",
       "    }\n",
       "\n",
       "    .dataframe tbody tr th {\n",
       "        vertical-align: top;\n",
       "    }\n",
       "\n",
       "    .dataframe thead th {\n",
       "        text-align: right;\n",
       "    }\n",
       "</style>\n",
       "<table border=\"1\" class=\"dataframe\">\n",
       "  <thead>\n",
       "    <tr style=\"text-align: right;\">\n",
       "      <th></th>\n",
       "      <th>LotArea</th>\n",
       "      <th>YearBuilt</th>\n",
       "      <th>BedroomAbvGr</th>\n",
       "      <th>LotShape</th>\n",
       "      <th>CentralAir</th>\n",
       "      <th>LotFrontage</th>\n",
       "      <th>MasVnrArea</th>\n",
       "      <th>GarageYrBlt</th>\n",
       "      <th>GarageType</th>\n",
       "    </tr>\n",
       "  </thead>\n",
       "  <tbody>\n",
       "    <tr>\n",
       "      <th>count</th>\n",
       "      <td>700.000000</td>\n",
       "      <td>700.000000</td>\n",
       "      <td>700.000000</td>\n",
       "      <td>700.000000</td>\n",
       "      <td>700.000000</td>\n",
       "      <td>700.000000</td>\n",
       "      <td>700.000000</td>\n",
       "      <td>700.000000</td>\n",
       "      <td>700.000000</td>\n",
       "    </tr>\n",
       "    <tr>\n",
       "      <th>mean</th>\n",
       "      <td>10864.542857</td>\n",
       "      <td>1971.212857</td>\n",
       "      <td>2.820000</td>\n",
       "      <td>1.920000</td>\n",
       "      <td>0.935714</td>\n",
       "      <td>69.996564</td>\n",
       "      <td>111.803752</td>\n",
       "      <td>1978.089666</td>\n",
       "      <td>2.238571</td>\n",
       "    </tr>\n",
       "    <tr>\n",
       "      <th>std</th>\n",
       "      <td>12628.465247</td>\n",
       "      <td>30.090452</td>\n",
       "      <td>0.828084</td>\n",
       "      <td>1.413971</td>\n",
       "      <td>0.245437</td>\n",
       "      <td>20.049010</td>\n",
       "      <td>190.770575</td>\n",
       "      <td>24.630015</td>\n",
       "      <td>1.771318</td>\n",
       "    </tr>\n",
       "    <tr>\n",
       "      <th>min</th>\n",
       "      <td>1491.000000</td>\n",
       "      <td>1880.000000</td>\n",
       "      <td>0.000000</td>\n",
       "      <td>0.000000</td>\n",
       "      <td>0.000000</td>\n",
       "      <td>21.000000</td>\n",
       "      <td>0.000000</td>\n",
       "      <td>1900.000000</td>\n",
       "      <td>0.000000</td>\n",
       "    </tr>\n",
       "    <tr>\n",
       "      <th>25%</th>\n",
       "      <td>7555.000000</td>\n",
       "      <td>1953.000000</td>\n",
       "      <td>2.000000</td>\n",
       "      <td>0.000000</td>\n",
       "      <td>1.000000</td>\n",
       "      <td>60.000000</td>\n",
       "      <td>0.000000</td>\n",
       "      <td>1961.000000</td>\n",
       "      <td>1.000000</td>\n",
       "    </tr>\n",
       "    <tr>\n",
       "      <th>50%</th>\n",
       "      <td>9485.000000</td>\n",
       "      <td>1973.000000</td>\n",
       "      <td>3.000000</td>\n",
       "      <td>3.000000</td>\n",
       "      <td>1.000000</td>\n",
       "      <td>69.996564</td>\n",
       "      <td>0.000000</td>\n",
       "      <td>1978.089666</td>\n",
       "      <td>1.000000</td>\n",
       "    </tr>\n",
       "    <tr>\n",
       "      <th>75%</th>\n",
       "      <td>11695.500000</td>\n",
       "      <td>2000.000000</td>\n",
       "      <td>3.000000</td>\n",
       "      <td>3.000000</td>\n",
       "      <td>1.000000</td>\n",
       "      <td>79.000000</td>\n",
       "      <td>180.000000</td>\n",
       "      <td>2001.000000</td>\n",
       "      <td>5.000000</td>\n",
       "    </tr>\n",
       "    <tr>\n",
       "      <th>max</th>\n",
       "      <td>215245.000000</td>\n",
       "      <td>2010.000000</td>\n",
       "      <td>8.000000</td>\n",
       "      <td>3.000000</td>\n",
       "      <td>1.000000</td>\n",
       "      <td>174.000000</td>\n",
       "      <td>1600.000000</td>\n",
       "      <td>2010.000000</td>\n",
       "      <td>5.000000</td>\n",
       "    </tr>\n",
       "  </tbody>\n",
       "</table>\n",
       "</div>"
      ],
      "text/plain": [
       "             LotArea    YearBuilt  BedroomAbvGr    LotShape  CentralAir  \\\n",
       "count     700.000000   700.000000    700.000000  700.000000  700.000000   \n",
       "mean    10864.542857  1971.212857      2.820000    1.920000    0.935714   \n",
       "std     12628.465247    30.090452      0.828084    1.413971    0.245437   \n",
       "min      1491.000000  1880.000000      0.000000    0.000000    0.000000   \n",
       "25%      7555.000000  1953.000000      2.000000    0.000000    1.000000   \n",
       "50%      9485.000000  1973.000000      3.000000    3.000000    1.000000   \n",
       "75%     11695.500000  2000.000000      3.000000    3.000000    1.000000   \n",
       "max    215245.000000  2010.000000      8.000000    3.000000    1.000000   \n",
       "\n",
       "       LotFrontage   MasVnrArea  GarageYrBlt  GarageType  \n",
       "count   700.000000   700.000000   700.000000  700.000000  \n",
       "mean     69.996564   111.803752  1978.089666    2.238571  \n",
       "std      20.049010   190.770575    24.630015    1.771318  \n",
       "min      21.000000     0.000000  1900.000000    0.000000  \n",
       "25%      60.000000     0.000000  1961.000000    1.000000  \n",
       "50%      69.996564     0.000000  1978.089666    1.000000  \n",
       "75%      79.000000   180.000000  2001.000000    5.000000  \n",
       "max     174.000000  1600.000000  2010.000000    5.000000  "
      ]
     },
     "execution_count": 16,
     "metadata": {},
     "output_type": "execute_result"
    }
   ],
   "source": [
    "xR.describe()"
   ]
  },
  {
   "cell_type": "code",
   "execution_count": 17,
   "id": "723076bc",
   "metadata": {},
   "outputs": [],
   "source": [
    "scaler = StandardScaler()\n",
    "scaler.fit(xR)\n",
    "scaled_xR = scaler.fit_transform(xR)\n",
    "scaled_dfR = pd.DataFrame(scaled_xR, columns=xR.columns)"
   ]
  },
  {
   "cell_type": "code",
   "execution_count": 18,
   "id": "ffcbf0e3",
   "metadata": {},
   "outputs": [
    {
     "data": {
      "text/html": [
       "<div>\n",
       "<style scoped>\n",
       "    .dataframe tbody tr th:only-of-type {\n",
       "        vertical-align: middle;\n",
       "    }\n",
       "\n",
       "    .dataframe tbody tr th {\n",
       "        vertical-align: top;\n",
       "    }\n",
       "\n",
       "    .dataframe thead th {\n",
       "        text-align: right;\n",
       "    }\n",
       "</style>\n",
       "<table border=\"1\" class=\"dataframe\">\n",
       "  <thead>\n",
       "    <tr style=\"text-align: right;\">\n",
       "      <th></th>\n",
       "      <th>LotArea</th>\n",
       "      <th>YearBuilt</th>\n",
       "      <th>BedroomAbvGr</th>\n",
       "      <th>LotShape</th>\n",
       "      <th>CentralAir</th>\n",
       "      <th>LotFrontage</th>\n",
       "      <th>MasVnrArea</th>\n",
       "      <th>GarageYrBlt</th>\n",
       "      <th>GarageType</th>\n",
       "    </tr>\n",
       "  </thead>\n",
       "  <tbody>\n",
       "    <tr>\n",
       "      <th>count</th>\n",
       "      <td>7.000000e+02</td>\n",
       "      <td>7.000000e+02</td>\n",
       "      <td>7.000000e+02</td>\n",
       "      <td>7.000000e+02</td>\n",
       "      <td>7.000000e+02</td>\n",
       "      <td>7.000000e+02</td>\n",
       "      <td>7.000000e+02</td>\n",
       "      <td>7.000000e+02</td>\n",
       "      <td>7.000000e+02</td>\n",
       "    </tr>\n",
       "    <tr>\n",
       "      <th>mean</th>\n",
       "      <td>4.060244e-17</td>\n",
       "      <td>3.217744e-15</td>\n",
       "      <td>1.674851e-16</td>\n",
       "      <td>2.283887e-17</td>\n",
       "      <td>-5.202188e-17</td>\n",
       "      <td>5.785848e-16</td>\n",
       "      <td>-5.075305e-18</td>\n",
       "      <td>4.192202e-15</td>\n",
       "      <td>7.612958e-17</td>\n",
       "    </tr>\n",
       "    <tr>\n",
       "      <th>std</th>\n",
       "      <td>1.000715e+00</td>\n",
       "      <td>1.000715e+00</td>\n",
       "      <td>1.000715e+00</td>\n",
       "      <td>1.000715e+00</td>\n",
       "      <td>1.000715e+00</td>\n",
       "      <td>1.000715e+00</td>\n",
       "      <td>1.000715e+00</td>\n",
       "      <td>1.000715e+00</td>\n",
       "      <td>1.000715e+00</td>\n",
       "    </tr>\n",
       "    <tr>\n",
       "      <th>min</th>\n",
       "      <td>-7.427859e-01</td>\n",
       "      <td>-3.033457e+00</td>\n",
       "      <td>-3.407888e+00</td>\n",
       "      <td>-1.358849e+00</td>\n",
       "      <td>-3.815174e+00</td>\n",
       "      <td>-2.445587e+00</td>\n",
       "      <td>-5.864830e-01</td>\n",
       "      <td>-3.172775e+00</td>\n",
       "      <td>-1.264693e+00</td>\n",
       "    </tr>\n",
       "    <tr>\n",
       "      <th>25%</th>\n",
       "      <td>-2.622575e-01</td>\n",
       "      <td>-6.057031e-01</td>\n",
       "      <td>-9.909462e-01</td>\n",
       "      <td>-1.358849e+00</td>\n",
       "      <td>2.621112e-01</td>\n",
       "      <td>-4.989629e-01</td>\n",
       "      <td>-5.864830e-01</td>\n",
       "      <td>-6.943514e-01</td>\n",
       "      <td>-6.997374e-01</td>\n",
       "    </tr>\n",
       "    <tr>\n",
       "      <th>50%</th>\n",
       "      <td>-1.093189e-01</td>\n",
       "      <td>5.943482e-02</td>\n",
       "      <td>2.175248e-01</td>\n",
       "      <td>7.643526e-01</td>\n",
       "      <td>2.621112e-01</td>\n",
       "      <td>7.093126e-16</td>\n",
       "      <td>-5.864830e-01</td>\n",
       "      <td>0.000000e+00</td>\n",
       "      <td>-6.997374e-01</td>\n",
       "    </tr>\n",
       "    <tr>\n",
       "      <th>75%</th>\n",
       "      <td>6.584738e-02</td>\n",
       "      <td>9.573710e-01</td>\n",
       "      <td>2.175248e-01</td>\n",
       "      <td>7.643526e-01</td>\n",
       "      <td>2.621112e-01</td>\n",
       "      <td>4.493925e-01</td>\n",
       "      <td>3.577334e-01</td>\n",
       "      <td>9.308446e-01</td>\n",
       "      <td>1.560083e+00</td>\n",
       "    </tr>\n",
       "    <tr>\n",
       "      <th>max</th>\n",
       "      <td>1.619568e+01</td>\n",
       "      <td>1.289940e+00</td>\n",
       "      <td>6.259880e+00</td>\n",
       "      <td>7.643526e-01</td>\n",
       "      <td>2.621112e-01</td>\n",
       "      <td>5.191169e+00</td>\n",
       "      <td>7.806552e+00</td>\n",
       "      <td>1.296514e+00</td>\n",
       "      <td>1.560083e+00</td>\n",
       "    </tr>\n",
       "  </tbody>\n",
       "</table>\n",
       "</div>"
      ],
      "text/plain": [
       "            LotArea     YearBuilt  BedroomAbvGr      LotShape    CentralAir  \\\n",
       "count  7.000000e+02  7.000000e+02  7.000000e+02  7.000000e+02  7.000000e+02   \n",
       "mean   4.060244e-17  3.217744e-15  1.674851e-16  2.283887e-17 -5.202188e-17   \n",
       "std    1.000715e+00  1.000715e+00  1.000715e+00  1.000715e+00  1.000715e+00   \n",
       "min   -7.427859e-01 -3.033457e+00 -3.407888e+00 -1.358849e+00 -3.815174e+00   \n",
       "25%   -2.622575e-01 -6.057031e-01 -9.909462e-01 -1.358849e+00  2.621112e-01   \n",
       "50%   -1.093189e-01  5.943482e-02  2.175248e-01  7.643526e-01  2.621112e-01   \n",
       "75%    6.584738e-02  9.573710e-01  2.175248e-01  7.643526e-01  2.621112e-01   \n",
       "max    1.619568e+01  1.289940e+00  6.259880e+00  7.643526e-01  2.621112e-01   \n",
       "\n",
       "        LotFrontage    MasVnrArea   GarageYrBlt    GarageType  \n",
       "count  7.000000e+02  7.000000e+02  7.000000e+02  7.000000e+02  \n",
       "mean   5.785848e-16 -5.075305e-18  4.192202e-15  7.612958e-17  \n",
       "std    1.000715e+00  1.000715e+00  1.000715e+00  1.000715e+00  \n",
       "min   -2.445587e+00 -5.864830e-01 -3.172775e+00 -1.264693e+00  \n",
       "25%   -4.989629e-01 -5.864830e-01 -6.943514e-01 -6.997374e-01  \n",
       "50%    7.093126e-16 -5.864830e-01  0.000000e+00 -6.997374e-01  \n",
       "75%    4.493925e-01  3.577334e-01  9.308446e-01  1.560083e+00  \n",
       "max    5.191169e+00  7.806552e+00  1.296514e+00  1.560083e+00  "
      ]
     },
     "execution_count": 18,
     "metadata": {},
     "output_type": "execute_result"
    }
   ],
   "source": [
    "xR = scaled_dfR\n",
    "xR.describe()"
   ]
  },
  {
   "cell_type": "code",
   "execution_count": 19,
   "id": "c32398cd",
   "metadata": {},
   "outputs": [],
   "source": [
    "xR_train, xR_test, yR_train, yR_test = tts(xR,yR, test_size=0.2,random_state=123)"
   ]
  },
  {
   "cell_type": "code",
   "execution_count": 20,
   "id": "9cbc5867",
   "metadata": {
    "scrolled": false
   },
   "outputs": [
    {
     "data": {
      "text/plain": [
       "MLPRegressor(hidden_layer_sizes=(6, 40, 12), max_iter=10000)"
      ]
     },
     "execution_count": 20,
     "metadata": {},
     "output_type": "execute_result"
    }
   ],
   "source": [
    "modeloR2 = MLPRegressor(hidden_layer_sizes=(6,40,12),\n",
    "                       max_iter=10000, activation='relu',solver='adam')\n",
    "modeloR2.fit(xR_train,yR_train)"
   ]
  },
  {
   "cell_type": "code",
   "execution_count": 21,
   "id": "d749b258",
   "metadata": {},
   "outputs": [
    {
     "data": {
      "text/plain": [
       "array([0.55534805, 0.22766615, 0.58671928, 0.6055574 ])"
      ]
     },
     "execution_count": 21,
     "metadata": {},
     "output_type": "execute_result"
    }
   ],
   "source": [
    "scoreR2 = cross_val_score(modeloR2, xR, yR, scoring = \"r2\", cv=4, n_jobs=-1)\n",
    "scoreR2"
   ]
  },
  {
   "cell_type": "code",
   "execution_count": 22,
   "id": "8b148c7f",
   "metadata": {},
   "outputs": [
    {
     "data": {
      "text/plain": [
       "0.4938227207283846"
      ]
     },
     "execution_count": 22,
     "metadata": {},
     "output_type": "execute_result"
    }
   ],
   "source": [
    "scoreR2.mean()"
   ]
  },
  {
   "cell_type": "code",
   "execution_count": null,
   "id": "12fe7bfb",
   "metadata": {},
   "outputs": [],
   "source": []
  }
 ],
 "metadata": {
  "kernelspec": {
   "display_name": "Python 3 (ipykernel)",
   "language": "python",
   "name": "python3"
  },
  "language_info": {
   "codemirror_mode": {
    "name": "ipython",
    "version": 3
   },
   "file_extension": ".py",
   "mimetype": "text/x-python",
   "name": "python",
   "nbconvert_exporter": "python",
   "pygments_lexer": "ipython3",
   "version": "3.10.4"
  }
 },
 "nbformat": 4,
 "nbformat_minor": 5
}
